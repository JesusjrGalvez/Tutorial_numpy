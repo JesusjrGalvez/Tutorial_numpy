{
  "cells": [
    {
      "cell_type": "markdown",
      "metadata": {
        "id": "view-in-github",
        "colab_type": "text"
      },
      "source": [
        "<a href=\"https://colab.research.google.com/github/JesusjrGalvez/Tutorial_numpy/blob/main/6_Sort_an_Array.ipynb\" target=\"_parent\"><img src=\"https://colab.research.google.com/assets/colab-badge.svg\" alt=\"Open In Colab\"/></a>"
      ]
    },
    {
      "cell_type": "code",
      "execution_count": null,
      "metadata": {
        "id": "RlteAUF4Ahz9"
      },
      "outputs": [],
      "source": [
        "import numpy as np"
      ]
    },
    {
      "cell_type": "code",
      "execution_count": null,
      "metadata": {
        "id": "aci-I21xAh0E"
      },
      "outputs": [],
      "source": [
        "arr = np.random.rand(5,5)"
      ]
    },
    {
      "cell_type": "markdown",
      "metadata": {
        "id": "78DAoXiWAh0F"
      },
      "source": [
        "### sort an array along a specified axis"
      ]
    },
    {
      "cell_type": "code",
      "execution_count": null,
      "metadata": {
        "id": "hCHxGhBeAh0H",
        "outputId": "32e764e2-c2dd-464f-dfb0-ddc2e8629e4b"
      },
      "outputs": [
        {
          "name": "stdout",
          "output_type": "stream",
          "text": [
            "[[0.32367677 0.160538   0.07577069 0.02051216 0.23410999]\n",
            " [0.54927129 0.20910696 0.2196075  0.22756129 0.67417506]\n",
            " [0.63553217 0.56279363 0.62776371 0.32657277 0.79901529]\n",
            " [0.7183594  0.69288395 0.70838123 0.52581954 0.96520237]\n",
            " [0.81701677 0.79908087 0.98800108 0.54773388 0.97694313]]\n"
          ]
        }
      ],
      "source": [
        "# sort along the row and return a copy\n",
        "print(np.sort(arr, axis=0))   "
      ]
    },
    {
      "cell_type": "code",
      "execution_count": null,
      "metadata": {
        "id": "WpJt44FjAh0I",
        "outputId": "a928b9eb-fa41-4c69-b37b-530d7adcc31e"
      },
      "outputs": [
        {
          "name": "stdout",
          "output_type": "stream",
          "text": [
            "[[0.32367677 0.160538   0.07577069 0.02051216 0.23410999]\n",
            " [0.54927129 0.20910696 0.2196075  0.22756129 0.67417506]\n",
            " [0.63553217 0.56279363 0.62776371 0.32657277 0.79901529]\n",
            " [0.7183594  0.69288395 0.70838123 0.52581954 0.96520237]\n",
            " [0.81701677 0.79908087 0.98800108 0.54773388 0.97694313]]\n"
          ]
        }
      ],
      "source": [
        "# sort along the row in place\n",
        "arr.sort(axis=0)\n",
        "print(arr)"
      ]
    },
    {
      "cell_type": "code",
      "execution_count": null,
      "metadata": {
        "id": "0N4s2NX6Ah0J",
        "outputId": "44cf3dce-0db8-4362-ae90-7b24682e938d"
      },
      "outputs": [
        {
          "name": "stdout",
          "output_type": "stream",
          "text": [
            "[[0.02051216 0.07577069 0.160538   0.23410999 0.32367677]\n",
            " [0.20910696 0.2196075  0.22756129 0.54927129 0.67417506]\n",
            " [0.32657277 0.56279363 0.62776371 0.63553217 0.79901529]\n",
            " [0.52581954 0.69288395 0.70838123 0.7183594  0.96520237]\n",
            " [0.54773388 0.79908087 0.81701677 0.97694313 0.98800108]]\n"
          ]
        }
      ],
      "source": [
        "# sort along the column and return a copy\n",
        "print(np.sort(arr, axis=1))    "
      ]
    },
    {
      "cell_type": "code",
      "execution_count": null,
      "metadata": {
        "id": "ZJq3EBSwAh0Q",
        "outputId": "4a8355bb-89f1-436d-9adc-906a5775eee9"
      },
      "outputs": [
        {
          "name": "stdout",
          "output_type": "stream",
          "text": [
            "[[0.02051216 0.07577069 0.160538   0.23410999 0.32367677]\n",
            " [0.20910696 0.2196075  0.22756129 0.54927129 0.67417506]\n",
            " [0.32657277 0.56279363 0.62776371 0.63553217 0.79901529]\n",
            " [0.52581954 0.69288395 0.70838123 0.7183594  0.96520237]\n",
            " [0.54773388 0.79908087 0.81701677 0.97694313 0.98800108]]\n"
          ]
        }
      ],
      "source": [
        "# sort along the column in place\n",
        "arr.sort(axis=1)    \n",
        "print(arr)"
      ]
    },
    {
      "cell_type": "markdown",
      "metadata": {
        "id": "MkK4H8AYAh0T"
      },
      "source": [
        "### compute the indices that would sort an array along a specified axis"
      ]
    },
    {
      "cell_type": "code",
      "execution_count": null,
      "metadata": {
        "id": "5as0T0ixAh0T"
      },
      "outputs": [],
      "source": [
        "arr = np.random.rand(5,5)"
      ]
    },
    {
      "cell_type": "code",
      "execution_count": null,
      "metadata": {
        "id": "eBimc_RZAh0U",
        "outputId": "233e63f8-f88d-4b14-ba8e-cb9326a8d0ea"
      },
      "outputs": [
        {
          "name": "stdout",
          "output_type": "stream",
          "text": [
            "[[1 1 2 2 0]\n",
            " [2 2 1 3 2]\n",
            " [0 4 0 1 4]\n",
            " [4 3 3 0 3]\n",
            " [3 0 4 4 1]]\n"
          ]
        }
      ],
      "source": [
        "# along the row\n",
        "print(np.argsort(arr, axis=0))"
      ]
    },
    {
      "cell_type": "code",
      "execution_count": null,
      "metadata": {
        "id": "DY8-fJHUAh0V",
        "outputId": "6bd35f8e-8a74-4965-ccac-5168c41c307c"
      },
      "outputs": [
        {
          "name": "stdout",
          "output_type": "stream",
          "text": [
            "[[4 3 2 0 1]\n",
            " [0 3 1 2 4]\n",
            " [3 2 4 0 1]\n",
            " [3 4 0 1 2]\n",
            " [4 0 1 2 3]]\n"
          ]
        }
      ],
      "source": [
        "# along the column\n",
        "print(np.argsort(arr, axis=1))"
      ]
    },
    {
      "cell_type": "code",
      "execution_count": null,
      "metadata": {
        "id": "tlsQdtDuAh0V",
        "outputId": "75000c82-b276-4b34-a0a6-910cc66565f4"
      },
      "outputs": [
        {
          "name": "stdout",
          "output_type": "stream",
          "text": [
            "[13 12  5 18  4  8  6  7 14  3 10 24  2 11  0 19 20 21  9 15 16 17 22  1\n",
            " 23]\n"
          ]
        }
      ],
      "source": [
        "# if axis=None, return the indices of a flattened array\n",
        "print(np.argsort(arr, axis=None))"
      ]
    }
  ],
  "metadata": {
    "kernelspec": {
      "display_name": "Python 3",
      "language": "python",
      "name": "python3"
    },
    "language_info": {
      "codemirror_mode": {
        "name": "ipython",
        "version": 3
      },
      "file_extension": ".py",
      "mimetype": "text/x-python",
      "name": "python",
      "nbconvert_exporter": "python",
      "pygments_lexer": "ipython3",
      "version": "3.6.6"
    },
    "colab": {
      "provenance": [],
      "include_colab_link": true
    }
  },
  "nbformat": 4,
  "nbformat_minor": 0
}