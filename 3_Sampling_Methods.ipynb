{
  "cells": [
    {
      "cell_type": "markdown",
      "metadata": {
        "id": "view-in-github",
        "colab_type": "text"
      },
      "source": [
        "<a href=\"https://colab.research.google.com/github/JesusjrGalvez/Tutorial_numpy/blob/main/3_Sampling_Methods.ipynb\" target=\"_parent\"><img src=\"https://colab.research.google.com/assets/colab-badge.svg\" alt=\"Open In Colab\"/></a>"
      ]
    },
    {
      "cell_type": "code",
      "execution_count": null,
      "metadata": {
        "id": "XQ3um1Cv_J0D"
      },
      "outputs": [],
      "source": [
        "import numpy as np"
      ]
    },
    {
      "cell_type": "code",
      "source": [
        "perm = np.random.permutation(8)\n",
        "print(perm)"
      ],
      "metadata": {
        "colab": {
          "base_uri": "https://localhost:8080/"
        },
        "id": "uk0_QY1LBDLN",
        "outputId": "9bb7e088-cca7-4a6f-a852-367ed7c99149"
      },
      "execution_count": null,
      "outputs": [
        {
          "output_type": "stream",
          "name": "stdout",
          "text": [
            "[2 3 7 4 0 5 6 1]\n"
          ]
        }
      ]
    },
    {
      "cell_type": "code",
      "source": [
        "perm = np.random.permutation([1, 4, 9, 12, 15])\n",
        "print(perm)\n"
      ],
      "metadata": {
        "colab": {
          "base_uri": "https://localhost:8080/"
        },
        "id": "kZk3Qci2BcP5",
        "outputId": "e4853387-81f4-4da7-c571-25d1cbbf8153"
      },
      "execution_count": null,
      "outputs": [
        {
          "output_type": "stream",
          "name": "stdout",
          "text": [
            "[15  4 12  9  1]\n"
          ]
        }
      ]
    },
    {
      "cell_type": "code",
      "source": [
        "arr = np.arange(12).reshape((4, 3))\n",
        "print(np.random.permutation(arr))"
      ],
      "metadata": {
        "colab": {
          "base_uri": "https://localhost:8080/"
        },
        "id": "lQT0is56Bkyi",
        "outputId": "97c5812d-12a4-450f-e1cd-971973d1fb62"
      },
      "execution_count": null,
      "outputs": [
        {
          "output_type": "stream",
          "name": "stdout",
          "text": [
            "[[ 6  7  8]\n",
            " [ 3  4  5]\n",
            " [ 0  1  2]\n",
            " [ 9 10 11]]\n"
          ]
        }
      ]
    },
    {
      "cell_type": "markdown",
      "metadata": {
        "id": "gCeN9HXr_J0H"
      },
      "source": [
        "### set seed"
      ]
    },
    {
      "cell_type": "code",
      "execution_count": null,
      "metadata": {
        "id": "cyHLz5NQ_J0I"
      },
      "outputs": [],
      "source": [
        "np.random.seed(0)"
      ]
    },
    {
      "cell_type": "markdown",
      "metadata": {
        "id": "89XmtoB-_J0J"
      },
      "source": [
        "### set random state which is independent from the global seed"
      ]
    },
    {
      "cell_type": "code",
      "execution_count": null,
      "metadata": {
        "colab": {
          "base_uri": "https://localhost:8080/"
        },
        "id": "HcnVsHyt_J0J",
        "outputId": "05de589b-98dc-4b8a-b245-256feaf91ade"
      },
      "outputs": [
        {
          "output_type": "execute_result",
          "data": {
            "text/plain": [
              "array([0.41142872, 0.17957013, 0.44040579, 0.95888953, 0.02245548,\n",
              "       0.51608109, 0.86035062, 0.92110506, 0.76694036, 0.73250356])"
            ]
          },
          "metadata": {},
          "execution_count": 71
        }
      ],
      "source": [
        "rs = np.random.RandomState(3211)\n",
        "rs.rand(10)"
      ]
    },
    {
      "cell_type": "markdown",
      "metadata": {
        "id": "1tDtUtA5_J0L"
      },
      "source": [
        "### generate a random sample from interval [0, 1) in a given shape"
      ]
    },
    {
      "cell_type": "code",
      "execution_count": null,
      "metadata": {
        "colab": {
          "base_uri": "https://localhost:8080/"
        },
        "id": "HrIDSAJ5_J0L",
        "outputId": "018b542f-c4f7-48e8-f46e-f9346d12cf43"
      },
      "outputs": [
        {
          "output_type": "stream",
          "name": "stdout",
          "text": [
            "0.5488135039273248\n",
            "[[0.71518937 0.60276338 0.54488318 0.4236548 ]\n",
            " [0.64589411 0.43758721 0.891773   0.96366276]\n",
            " [0.38344152 0.79172504 0.52889492 0.56804456]\n",
            " [0.92559664 0.07103606 0.0871293  0.0202184 ]]\n"
          ]
        }
      ],
      "source": [
        "# generate a random scalar\n",
        "print(np.random.rand())    \n",
        "print(np.random.rand(4, 4) ) "
      ]
    },
    {
      "cell_type": "code",
      "execution_count": null,
      "metadata": {
        "colab": {
          "base_uri": "https://localhost:8080/"
        },
        "id": "b_gsh_Y-_J0M",
        "outputId": "26f05e3e-761f-430a-c1e3-0127216c2832"
      },
      "outputs": [
        {
          "output_type": "stream",
          "name": "stdout",
          "text": [
            "[0.83261985 0.77815675 0.87001215]\n"
          ]
        }
      ],
      "source": [
        "# generate a 1-D array\n",
        "print(np.random.rand(3))           "
      ]
    },
    {
      "cell_type": "code",
      "execution_count": null,
      "metadata": {
        "colab": {
          "base_uri": "https://localhost:8080/"
        },
        "id": "9EuobZgl_J0N",
        "outputId": "322793db-7a33-4858-ead4-214d6fb55228"
      },
      "outputs": [
        {
          "output_type": "stream",
          "name": "stdout",
          "text": [
            "[[0.97861834 0.79915856 0.46147936]\n",
            " [0.78052918 0.11827443 0.63992102]\n",
            " [0.14335329 0.94466892 0.52184832]]\n"
          ]
        }
      ],
      "source": [
        "# generate a 2-D array\n",
        "print(np.random.rand(3,3))          "
      ]
    },
    {
      "cell_type": "markdown",
      "metadata": {
        "id": "k_67pCdc_J0N"
      },
      "source": [
        "### generate a sample from the standard normal distribution (mean = 0, var = 1)"
      ]
    },
    {
      "cell_type": "code",
      "execution_count": null,
      "metadata": {
        "colab": {
          "base_uri": "https://localhost:8080/"
        },
        "id": "g6s5FsnL_J0O",
        "outputId": "493618f3-e2d7-4e26-8df8-d4cb60e2040d"
      },
      "outputs": [
        {
          "output_type": "stream",
          "name": "stdout",
          "text": [
            "[[-0.73922809  0.9879891  -0.02647272]\n",
            " [-1.26266935 -1.56116514 -0.93935385]\n",
            " [ 0.33545292 -1.48975161 -1.06691075]]\n",
            "0.8312189187614462\n",
            "-0.6402343879925384\n"
          ]
        }
      ],
      "source": [
        "arr = np.random.randn(3,3)\n",
        "print(arr)\n",
        "dev = np.std(arr)\n",
        "print(dev)\n",
        "m = np.mean(arr)\n",
        "print(m)"
      ]
    },
    {
      "cell_type": "code",
      "source": [],
      "metadata": {
        "id": "0yIZ2J4FCDzQ"
      },
      "execution_count": null,
      "outputs": []
    },
    {
      "cell_type": "markdown",
      "metadata": {
        "id": "56SCDt6G_J0O"
      },
      "source": [
        "### generate an array of random integers in a given interval [low, high)"
      ]
    },
    {
      "cell_type": "code",
      "source": [
        "print(np.dtype.__i)"
      ],
      "metadata": {
        "colab": {
          "base_uri": "https://localhost:8080/"
        },
        "id": "P7A4oj2sRPv9",
        "outputId": "1dfbe8ac-d259-4695-d055-231f9a154c5e"
      },
      "execution_count": null,
      "outputs": [
        {
          "output_type": "stream",
          "name": "stdout",
          "text": [
            "dtype\n"
          ]
        }
      ]
    },
    {
      "cell_type": "code",
      "execution_count": null,
      "metadata": {
        "colab": {
          "base_uri": "https://localhost:8080/"
        },
        "id": "uav50RBl_J0P",
        "outputId": "cf6581d2-0a29-4e81-ff02-b48faf983c9a"
      },
      "outputs": [
        {
          "output_type": "stream",
          "name": "stdout",
          "text": [
            "[-24 -27 -82]\n"
          ]
        }
      ],
      "source": [
        "# np.ranodm.randint(low, high, size, dtype)\n",
        "print(np.random.randint(-100, 10, 3, 'i8'))"
      ]
    },
    {
      "cell_type": "code",
      "source": [
        "print(np.random.randint(-100, 100, (4)))"
      ],
      "metadata": {
        "colab": {
          "base_uri": "https://localhost:8080/"
        },
        "id": "5NQeI4-ecr72",
        "outputId": "0eda0a79-4a10-4db7-f0b6-7304e97a4c9e"
      },
      "execution_count": null,
      "outputs": [
        {
          "output_type": "stream",
          "name": "stdout",
          "text": [
            "[-100    9   -8   65]\n"
          ]
        }
      ]
    },
    {
      "cell_type": "code",
      "source": [
        "arr = np.random.randint(0, 100, (3, 4))\n",
        "print(arr)\n",
        "\n",
        "\n",
        "def compute_impurity(feature, impurity_criterion):\n",
        "    \"\"\"\n",
        "    This function calculates impurity of a feature.\n",
        "    Supported impurity criteria: 'entropy', 'gini'\n",
        "    input: feature (this needs to be a Pandas series)\n",
        "    output: feature impurity\n",
        "    \"\"\"\n",
        "    probs = feature.value_counts(normalize=True)\n",
        "\n",
        "    if impurity_criterion == 'entropy':\n",
        "        impurity = -1 * np.sum(np.log2(probs) * probs)\n",
        "    elif impurity_criterion == 'gini':\n",
        "        impurity = 1 - np.sum(np.square(probs))\n",
        "    else:\n",
        "        raise ValueError('Unknown impurity criterion')\n",
        "\n",
        "    return (round(impurity, 3))\n",
        "\n",
        "print(compute_impurity(arr, \"gini\"))"
      ],
      "metadata": {
        "colab": {
          "base_uri": "https://localhost:8080/",
          "height": 374
        },
        "id": "LxuxHOsodBj3",
        "outputId": "4336830d-0bbb-4142-a93f-979ad9ae69ea"
      },
      "execution_count": null,
      "outputs": [
        {
          "output_type": "stream",
          "name": "stdout",
          "text": [
            "[[47 61 50 68]\n",
            " [76 57  4 36]\n",
            " [80 82 37 94]]\n"
          ]
        },
        {
          "output_type": "error",
          "ename": "AttributeError",
          "evalue": "ignored",
          "traceback": [
            "\u001b[0;31m---------------------------------------------------------------------------\u001b[0m",
            "\u001b[0;31mAttributeError\u001b[0m                            Traceback (most recent call last)",
            "\u001b[0;32m<ipython-input-137-0e332538b25f>\u001b[0m in \u001b[0;36m<module>\u001b[0;34m\u001b[0m\n\u001b[1;32m     21\u001b[0m     \u001b[0;32mreturn\u001b[0m \u001b[0;34m(\u001b[0m\u001b[0mround\u001b[0m\u001b[0;34m(\u001b[0m\u001b[0mimpurity\u001b[0m\u001b[0;34m,\u001b[0m \u001b[0;36m3\u001b[0m\u001b[0;34m)\u001b[0m\u001b[0;34m)\u001b[0m\u001b[0;34m\u001b[0m\u001b[0;34m\u001b[0m\u001b[0m\n\u001b[1;32m     22\u001b[0m \u001b[0;34m\u001b[0m\u001b[0m\n\u001b[0;32m---> 23\u001b[0;31m \u001b[0mprint\u001b[0m\u001b[0;34m(\u001b[0m\u001b[0mcompute_impurity\u001b[0m\u001b[0;34m(\u001b[0m\u001b[0marr\u001b[0m\u001b[0;34m,\u001b[0m \u001b[0;34m\"gini\"\u001b[0m\u001b[0;34m)\u001b[0m\u001b[0;34m)\u001b[0m\u001b[0;34m\u001b[0m\u001b[0;34m\u001b[0m\u001b[0m\n\u001b[0m",
            "\u001b[0;32m<ipython-input-137-0e332538b25f>\u001b[0m in \u001b[0;36mcompute_impurity\u001b[0;34m(feature, impurity_criterion)\u001b[0m\n\u001b[1;32m     10\u001b[0m     \u001b[0moutput\u001b[0m\u001b[0;34m:\u001b[0m \u001b[0mfeature\u001b[0m \u001b[0mimpurity\u001b[0m\u001b[0;34m\u001b[0m\u001b[0;34m\u001b[0m\u001b[0m\n\u001b[1;32m     11\u001b[0m     \"\"\"\n\u001b[0;32m---> 12\u001b[0;31m     \u001b[0mprobs\u001b[0m \u001b[0;34m=\u001b[0m \u001b[0mfeature\u001b[0m\u001b[0;34m.\u001b[0m\u001b[0mvalue_counts\u001b[0m\u001b[0;34m(\u001b[0m\u001b[0mnormalize\u001b[0m\u001b[0;34m=\u001b[0m\u001b[0;32mTrue\u001b[0m\u001b[0;34m)\u001b[0m\u001b[0;34m\u001b[0m\u001b[0;34m\u001b[0m\u001b[0m\n\u001b[0m\u001b[1;32m     13\u001b[0m \u001b[0;34m\u001b[0m\u001b[0m\n\u001b[1;32m     14\u001b[0m     \u001b[0;32mif\u001b[0m \u001b[0mimpurity_criterion\u001b[0m \u001b[0;34m==\u001b[0m \u001b[0;34m'entropy'\u001b[0m\u001b[0;34m:\u001b[0m\u001b[0;34m\u001b[0m\u001b[0;34m\u001b[0m\u001b[0m\n",
            "\u001b[0;31mAttributeError\u001b[0m: 'numpy.ndarray' object has no attribute 'value_counts'"
          ]
        }
      ]
    },
    {
      "cell_type": "markdown",
      "metadata": {
        "id": "tkFCn0aB_J0P"
      },
      "source": [
        "### generate an array of random floating-point numbers in the interval [0.0, 1.0)"
      ]
    },
    {
      "cell_type": "code",
      "execution_count": null,
      "metadata": {
        "colab": {
          "base_uri": "https://localhost:8080/"
        },
        "id": "w41An3FG_J0P",
        "outputId": "3023d5b1-9aa3-455e-89b3-0a6fc3ed3bce"
      },
      "outputs": [
        {
          "output_type": "stream",
          "name": "stdout",
          "text": [
            "np.random.random_sample(10) = [0.68636205 0.9768018  0.60859331 0.32837895 0.80269214 0.83636403\n",
            " 0.41527995 0.41560826 0.93661711 0.72218402]\n",
            "\n",
            "np.random.random(10) = [0.03290133 0.42594595 0.09389447 0.97854755 0.57521247 0.64367809\n",
            " 0.36446268 0.66771489 0.57184364 0.77468348]\n",
            "\n",
            "np.random.ranf(10) = [0.90010213 0.40430653 0.89534511 0.06508248 0.68547738 0.23107005\n",
            " 0.5388685  0.77303498 0.74658429 0.72143011]\n",
            "\n",
            "np.random.sample(10) = [0.48289162 0.19402282 0.20556632 0.53546826 0.43781425 0.97498981\n",
            " 0.30082393 0.07896991 0.72687797 0.97542413]\n"
          ]
        }
      ],
      "source": [
        "# the following methods are the same as np.random.rand()\n",
        "print(f\"np.random.random_sample(10) = {np.random.random_sample(10)}\")\n",
        "print(f\"\\nnp.random.random(10) = {np.random.random(10)}\")\n",
        "print(f\"\\nnp.random.ranf(10) = {np.random.ranf(10)}\")\n",
        "print(f\"\\nnp.random.sample(10) = {np.random.sample(10)}\")"
      ]
    },
    {
      "cell_type": "markdown",
      "metadata": {
        "id": "maBZxlpI_J0Q"
      },
      "source": [
        "### generate a random sample from a given 1-D array"
      ]
    },
    {
      "cell_type": "code",
      "execution_count": null,
      "metadata": {
        "colab": {
          "base_uri": "https://localhost:8080/"
        },
        "id": "oWKUF6Pt_J0Q",
        "outputId": "e29894f1-f505-4092-9eb4-08a484348c92"
      },
      "outputs": [
        {
          "output_type": "stream",
          "name": "stdout",
          "text": [
            "[1 1 0 1 1 1 1 2 1 1]\n"
          ]
        }
      ],
      "source": [
        "# np.random.choice(iterable_or_int, size, replace=True, p=weights)\n",
        "print(np.random.choice(range(3), 10, replace=True, p=[0.1, 0.8, 0.1]))"
      ]
    },
    {
      "cell_type": "code",
      "execution_count": null,
      "metadata": {
        "colab": {
          "base_uri": "https://localhost:8080/"
        },
        "id": "nA8IV2Li_J0Q",
        "outputId": "bde09cbc-83fd-45c5-839d-8b35a3982d8c"
      },
      "outputs": [
        {
          "output_type": "stream",
          "name": "stdout",
          "text": [
            "[0 0 2 0 2 2 2 0 0 0]\n"
          ]
        }
      ],
      "source": [
        "print(np.random.choice(3, 10))"
      ]
    },
    {
      "cell_type": "code",
      "execution_count": null,
      "metadata": {
        "colab": {
          "base_uri": "https://localhost:8080/"
        },
        "id": "1FfrxnI2_J0R",
        "outputId": "890180fb-d1bd-44c8-c18a-6634d9fbcb88"
      },
      "outputs": [
        {
          "output_type": "stream",
          "name": "stdout",
          "text": [
            "[2 3 1 2 3 3 3 2 1 1]\n"
          ]
        }
      ],
      "source": [
        "print(np.random.choice([1,2,3], 10))"
      ]
    },
    {
      "cell_type": "markdown",
      "metadata": {
        "id": "6zToigDN_J0R"
      },
      "source": [
        "### shuffle an array in place"
      ]
    },
    {
      "cell_type": "code",
      "execution_count": 144,
      "metadata": {
        "colab": {
          "base_uri": "https://localhost:8080/"
        },
        "id": "7NvXuXAK_J0R",
        "outputId": "3c7feb3f-27de-4bed-bb3f-d7d2f042d216"
      },
      "outputs": [
        {
          "output_type": "stream",
          "name": "stdout",
          "text": [
            "[0 1 2 3 4 5 6 7 8 9]\n"
          ]
        }
      ],
      "source": [
        "arr = np.array(range(10))\n",
        "print(arr)"
      ]
    },
    {
      "cell_type": "code",
      "execution_count": 146,
      "metadata": {
        "colab": {
          "base_uri": "https://localhost:8080/"
        },
        "id": "ydze2k3Q_J0S",
        "outputId": "8b4f0a6c-3f7c-4094-a478-c1ada1ef7f40"
      },
      "outputs": [
        {
          "output_type": "stream",
          "name": "stdout",
          "text": [
            "[9 0 6 5 2 4 3 8 7 1]\n"
          ]
        }
      ],
      "source": [
        "np.random.shuffle(arr)\n",
        "print(arr)"
      ]
    },
    {
      "cell_type": "markdown",
      "source": [
        "Apparently it does not work if you put all code in one line. "
      ],
      "metadata": {
        "id": "2n1CqgcVk9yx"
      }
    },
    {
      "cell_type": "code",
      "source": [
        "arr = np.random.shuffle(np.array(range(10)))\n",
        "print(arr)"
      ],
      "metadata": {
        "colab": {
          "base_uri": "https://localhost:8080/"
        },
        "id": "Sr0G4fKBkhBL",
        "outputId": "792b58ed-5907-42f1-f9c6-32c2a53cda09"
      },
      "execution_count": 147,
      "outputs": [
        {
          "output_type": "stream",
          "name": "stdout",
          "text": [
            "None\n"
          ]
        }
      ]
    },
    {
      "cell_type": "markdown",
      "metadata": {
        "id": "9vg5zcNO_J0S"
      },
      "source": [
        "### generate a permutation of an array"
      ]
    },
    {
      "cell_type": "code",
      "execution_count": null,
      "metadata": {
        "colab": {
          "base_uri": "https://localhost:8080/"
        },
        "id": "lWMcHZM1_J0S",
        "outputId": "509bbee7-d251-40e5-c222-f35dc0cf8759"
      },
      "outputs": [
        {
          "output_type": "stream",
          "name": "stdout",
          "text": [
            "The initial array:  [0 1 2 3 4 5 6 7 8 9]\n",
            "A permutation of the array:  [9 6 1 2 8 7 5 3 4 0]\n"
          ]
        }
      ],
      "source": [
        "# similar to np.random.shuffle(), but it returns a copy rather than making changes in place\n",
        "arr = np.array(range(10))\n",
        "print('The initial array: ', arr)\n",
        "print('A permutation of the array: ', np.random.permutation(arr))"
      ]
    },
    {
      "cell_type": "code",
      "source": [
        "arr = np.random.randint(0, 10, (6, 3))\n",
        "print(arr)\n",
        "arr2 = np.random.permutation(arr)\n",
        "print(arr2)"
      ],
      "metadata": {
        "colab": {
          "base_uri": "https://localhost:8080/"
        },
        "id": "R33DOH08lJn8",
        "outputId": "f217f7fd-6f4c-44d7-8b23-dd13b2e94823"
      },
      "execution_count": 154,
      "outputs": [
        {
          "output_type": "stream",
          "name": "stdout",
          "text": [
            "[[2 7 8]\n",
            " [0 7 4]\n",
            " [8 4 4]\n",
            " [0 4 8]\n",
            " [0 0 4]\n",
            " [7 3 7]]\n",
            "[[2 7 8]\n",
            " [0 0 4]\n",
            " [7 3 7]\n",
            " [0 7 4]\n",
            " [0 4 8]\n",
            " [8 4 4]]\n"
          ]
        }
      ]
    }
  ],
  "metadata": {
    "kernelspec": {
      "display_name": "Python 3",
      "language": "python",
      "name": "python3"
    },
    "language_info": {
      "codemirror_mode": {
        "name": "ipython",
        "version": 3
      },
      "file_extension": ".py",
      "mimetype": "text/x-python",
      "name": "python",
      "nbconvert_exporter": "python",
      "pygments_lexer": "ipython3",
      "version": "3.6.6"
    },
    "colab": {
      "provenance": [],
      "include_colab_link": true
    }
  },
  "nbformat": 4,
  "nbformat_minor": 0
}