{
  "cells": [
    {
      "cell_type": "markdown",
      "metadata": {
        "id": "view-in-github",
        "colab_type": "text"
      },
      "source": [
        "<a href=\"https://colab.research.google.com/github/JesusjrGalvez/Tutorial_numpy/blob/main/2_Inspect_an_Array.ipynb\" target=\"_parent\"><img src=\"https://colab.research.google.com/assets/colab-badge.svg\" alt=\"Open In Colab\"/></a>"
      ]
    },
    {
      "cell_type": "code",
      "execution_count": null,
      "metadata": {
        "id": "agRukWURJcuS"
      },
      "outputs": [],
      "source": [
        "import numpy as np"
      ]
    },
    {
      "cell_type": "code",
      "execution_count": null,
      "metadata": {
        "id": "xl9DMtkxJcuW"
      },
      "outputs": [],
      "source": [
        "arr = np.array([[1,2,3], [4,5,6]], dtype=np.int64)"
      ]
    },
    {
      "cell_type": "markdown",
      "metadata": {
        "id": "9Ig1Ui7xJcuX"
      },
      "source": [
        "### inspect general information of an array"
      ]
    },
    {
      "cell_type": "code",
      "execution_count": null,
      "metadata": {
        "id": "siyHrqqJJcuY",
        "outputId": "540e779b-b4e2-4a7d-9a92-34e47006b536"
      },
      "outputs": [
        {
          "name": "stdout",
          "output_type": "stream",
          "text": [
            "class:  ndarray\n",
            "shape:  (2, 3)\n",
            "strides:  (24, 8)\n",
            "itemsize:  8\n",
            "aligned:  True\n",
            "contiguous:  True\n",
            "fortran:  False\n",
            "data pointer: 0x1c9214b7150\n",
            "byteorder:  little\n",
            "byteswap:  False\n",
            "type: int64\n",
            "None\n"
          ]
        }
      ],
      "source": [
        "print(np.info(arr))"
      ]
    },
    {
      "cell_type": "markdown",
      "metadata": {
        "id": "GTGbEhyhJcua"
      },
      "source": [
        "### inspect the data type of an array"
      ]
    },
    {
      "cell_type": "code",
      "execution_count": null,
      "metadata": {
        "id": "OB5C_XmOJcua",
        "outputId": "c143869d-68d1-47d1-b731-9ef0d5d6a982"
      },
      "outputs": [
        {
          "name": "stdout",
          "output_type": "stream",
          "text": [
            "int64\n"
          ]
        }
      ],
      "source": [
        "print(arr.dtype)"
      ]
    },
    {
      "cell_type": "markdown",
      "metadata": {
        "id": "Ct9GNDscJcub"
      },
      "source": [
        "### inspect the dimension of an array"
      ]
    },
    {
      "cell_type": "code",
      "execution_count": null,
      "metadata": {
        "id": "8b8hatXMJcuc",
        "outputId": "dc604f14-316d-46e6-916e-46284e0e9794"
      },
      "outputs": [
        {
          "name": "stdout",
          "output_type": "stream",
          "text": [
            "(2, 3)\n"
          ]
        }
      ],
      "source": [
        "print(arr.shape)"
      ]
    },
    {
      "cell_type": "markdown",
      "metadata": {
        "id": "_dYfjMOjJcuc"
      },
      "source": [
        "### inspect length of an array"
      ]
    },
    {
      "cell_type": "code",
      "execution_count": null,
      "metadata": {
        "id": "adHL6FhvJcud",
        "outputId": "fb021b4d-23b0-43aa-99fe-6480e05eda3e"
      },
      "outputs": [
        {
          "name": "stdout",
          "output_type": "stream",
          "text": [
            "2\n"
          ]
        }
      ],
      "source": [
        "print(len(arr))"
      ]
    },
    {
      "cell_type": "markdown",
      "metadata": {
        "id": "-PZoQFXTJcue"
      },
      "source": [
        "### inspect the number of dimensions of an array"
      ]
    },
    {
      "cell_type": "code",
      "execution_count": null,
      "metadata": {
        "id": "Jh0LfXAqJcue",
        "outputId": "2c6524ad-a89a-424d-9228-bb96cba98abb"
      },
      "outputs": [
        {
          "name": "stdout",
          "output_type": "stream",
          "text": [
            "2\n"
          ]
        }
      ],
      "source": [
        "print(arr.ndim)"
      ]
    },
    {
      "cell_type": "markdown",
      "metadata": {
        "id": "uTOkxEsQJcuf"
      },
      "source": [
        "### inspect the number of elements in an array"
      ]
    },
    {
      "cell_type": "code",
      "execution_count": null,
      "metadata": {
        "id": "F-chPFA8Jcuf",
        "outputId": "28a31e3b-d9c4-46ad-d56f-f8b6c0330030"
      },
      "outputs": [
        {
          "name": "stdout",
          "output_type": "stream",
          "text": [
            "6\n"
          ]
        }
      ],
      "source": [
        "print(arr.size)"
      ]
    },
    {
      "cell_type": "markdown",
      "metadata": {
        "id": "hMvYrmudJcuf"
      },
      "source": [
        "### inspect the number of bytes of each element in an array"
      ]
    },
    {
      "cell_type": "code",
      "execution_count": null,
      "metadata": {
        "id": "tnBPSSDfJcug",
        "outputId": "aae273cc-9da0-4c5f-82dd-e5b36f53aa9c"
      },
      "outputs": [
        {
          "name": "stdout",
          "output_type": "stream",
          "text": [
            "8\n"
          ]
        }
      ],
      "source": [
        "print(arr.itemsize)"
      ]
    },
    {
      "cell_type": "markdown",
      "metadata": {
        "id": "wdxMA4NAJcug"
      },
      "source": [
        "### inspect the memory size of an array (in byte)"
      ]
    },
    {
      "cell_type": "code",
      "execution_count": null,
      "metadata": {
        "id": "PPW5AtZlJcug",
        "outputId": "6eac32f2-8282-4d9e-a4f0-3e6f2eeb6b7a"
      },
      "outputs": [
        {
          "name": "stdout",
          "output_type": "stream",
          "text": [
            "48\n"
          ]
        }
      ],
      "source": [
        "# arr.nbytes = arr.size * arr.itemsize\n",
        "print(arr.nbytes)"
      ]
    }
  ],
  "metadata": {
    "kernelspec": {
      "display_name": "Python 3",
      "language": "python",
      "name": "python3"
    },
    "language_info": {
      "codemirror_mode": {
        "name": "ipython",
        "version": 3
      },
      "file_extension": ".py",
      "mimetype": "text/x-python",
      "name": "python",
      "nbconvert_exporter": "python",
      "pygments_lexer": "ipython3",
      "version": "3.6.6"
    },
    "colab": {
      "provenance": [],
      "include_colab_link": true
    }
  },
  "nbformat": 4,
  "nbformat_minor": 0
}