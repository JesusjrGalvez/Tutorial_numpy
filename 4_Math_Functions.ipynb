{
  "cells": [
    {
      "cell_type": "markdown",
      "metadata": {
        "id": "view-in-github",
        "colab_type": "text"
      },
      "source": [
        "<a href=\"https://colab.research.google.com/github/JesusjrGalvez/Tutorial_numpy/blob/main/4_Math_Functions.ipynb\" target=\"_parent\"><img src=\"https://colab.research.google.com/assets/colab-badge.svg\" alt=\"Open In Colab\"/></a>"
      ]
    },
    {
      "cell_type": "code",
      "execution_count": 66,
      "metadata": {
        "id": "8lOodoQXmA_L"
      },
      "outputs": [],
      "source": [
        "import numpy as np\n",
        "import math"
      ]
    },
    {
      "cell_type": "code",
      "execution_count": 67,
      "metadata": {
        "colab": {
          "base_uri": "https://localhost:8080/"
        },
        "id": "Z6pR37SWmA_P",
        "outputId": "ff453e2a-238c-4af3-9361-46c1744f22f5"
      },
      "outputs": [
        {
          "output_type": "stream",
          "name": "stdout",
          "text": [
            "[[0.14372429 0.34026706 0.90604067 0.76294747 0.96510935]\n",
            " [0.55243393 0.79953229 0.00105921 0.975264   0.36150542]\n",
            " [0.46468092 0.55839128 0.73983578 0.19564373 0.1349729 ]\n",
            " [0.05674927 0.06719407 0.04496458 0.53826035 0.12873908]\n",
            " [0.78920057 0.05752513 0.71053274 0.30515986 0.2095316 ]]\n"
          ]
        }
      ],
      "source": [
        "arr = np.random.rand(5,5)\n",
        "print(arr)"
      ]
    },
    {
      "cell_type": "markdown",
      "metadata": {
        "id": "96KXzj-OmA_P"
      },
      "source": [
        "### element-wise addition, subtraction, multiplication and division"
      ]
    },
    {
      "cell_type": "code",
      "execution_count": 68,
      "metadata": {
        "colab": {
          "base_uri": "https://localhost:8080/"
        },
        "id": "q453x4i1mA_R",
        "outputId": "35aa9530-57bb-4e30-8a13-158e34285d10"
      },
      "outputs": [
        {
          "output_type": "stream",
          "name": "stdout",
          "text": [
            "[[10.14372429 10.34026706 10.90604067 10.76294747 10.96510935]\n",
            " [10.55243393 10.79953229 10.00105921 10.975264   10.36150542]\n",
            " [10.46468092 10.55839128 10.73983578 10.19564373 10.1349729 ]\n",
            " [10.05674927 10.06719407 10.04496458 10.53826035 10.12873908]\n",
            " [10.78920057 10.05752513 10.71053274 10.30515986 10.2095316 ]]\n",
            "[[-9.85627571 -9.65973294 -9.09395933 -9.23705253 -9.03489065]\n",
            " [-9.44756607 -9.20046771 -9.99894079 -9.024736   -9.63849458]\n",
            " [-9.53531908 -9.44160872 -9.26016422 -9.80435627 -9.8650271 ]\n",
            " [-9.94325073 -9.93280593 -9.95503542 -9.46173965 -9.87126092]\n",
            " [-9.21079943 -9.94247487 -9.28946726 -9.69484014 -9.7904684 ]]\n",
            "[[1.43724288 3.40267059 9.06040673 7.62947472 9.65109346]\n",
            " [5.5243393  7.99532293 0.01059207 9.75264004 3.61505419]\n",
            " [4.6468092  5.58391279 7.39835779 1.95643733 1.34972896]\n",
            " [0.56749272 0.67194074 0.44964584 5.38260353 1.28739076]\n",
            " [7.89200572 0.5752513  7.10532742 3.05159858 2.09531604]]\n",
            "[[0.01437243 0.03402671 0.09060407 0.07629475 0.09651093]\n",
            " [0.05524339 0.07995323 0.00010592 0.0975264  0.03615054]\n",
            " [0.04646809 0.05583913 0.07398358 0.01956437 0.01349729]\n",
            " [0.00567493 0.00671941 0.00449646 0.05382604 0.01287391]\n",
            " [0.07892006 0.00575251 0.07105327 0.03051599 0.02095316]]\n"
          ]
        }
      ],
      "source": [
        "print(arr + 10)\n",
        "print(arr - 10)\n",
        "print(arr * 10)\n",
        "print(arr / 10)"
      ]
    },
    {
      "cell_type": "code",
      "execution_count": 69,
      "metadata": {
        "colab": {
          "base_uri": "https://localhost:8080/"
        },
        "id": "ums86myrmA_S",
        "outputId": "aa3820a6-d5b1-4b09-a64e-1a41812504bb"
      },
      "outputs": [
        {
          "output_type": "stream",
          "name": "stdout",
          "text": [
            "[ 9 11 13]\n",
            "[1 2 3]\n",
            "[1 4 9]\n"
          ]
        }
      ],
      "source": [
        "# the above operations can be performed using numpy built-in functions\n",
        "# which can save memory as the output can be stored in the original array rather than assigning new memory\n",
        "arr1 = np.array([1,2,3])\n",
        "np.add(arr1, [8,9,10], out=arr1)\n",
        "print(arr1)\n",
        "\n",
        "np.subtract(arr1, [8,9,10], out=arr1)\n",
        "print(arr1)\n",
        "\n",
        "np.multiply(arr1, [1,2,3], out=arr1)\n",
        "print(arr1)"
      ]
    },
    {
      "cell_type": "code",
      "source": [
        "arr1 = np.array([[1, 2, 3], [10, 20, 30]])\n",
        "print(arr1)\n",
        "print(np.shape(arr1))\n",
        "arr2 = np.transpose(arr1)\n",
        "print(arr2)\n",
        "print(np.shape(arr2))\n",
        "print(\"\\n\")\n",
        "arr = np.matmul(arr1, arr2)\n",
        "print(arr)\n",
        "\n",
        "# This however does not work\n",
        "#print(np.multiply(arr1, arr2))"
      ],
      "metadata": {
        "colab": {
          "base_uri": "https://localhost:8080/"
        },
        "id": "Kw9zqKN7ozVU",
        "outputId": "694fbc1c-ea24-4c06-bff3-a84dffa53e75"
      },
      "execution_count": 70,
      "outputs": [
        {
          "output_type": "stream",
          "name": "stdout",
          "text": [
            "[[ 1  2  3]\n",
            " [10 20 30]]\n",
            "(2, 3)\n",
            "[[ 1 10]\n",
            " [ 2 20]\n",
            " [ 3 30]]\n",
            "(3, 2)\n",
            "\n",
            "\n",
            "[[  14  140]\n",
            " [ 140 1400]]\n"
          ]
        }
      ]
    },
    {
      "cell_type": "markdown",
      "metadata": {
        "id": "5EouhOu_mA_T"
      },
      "source": [
        "### element-wise exponentiation\n",
        "\n",
        "The exponential function is e^x where e is a mathematical constant called Euler's number, approximately 2.718281"
      ]
    },
    {
      "cell_type": "code",
      "execution_count": 71,
      "metadata": {
        "colab": {
          "base_uri": "https://localhost:8080/"
        },
        "id": "aatpdAHfmA_T",
        "outputId": "94eb1d27-eb60-4aa1-8dc6-de1978447cd8"
      },
      "outputs": [
        {
          "output_type": "stream",
          "name": "stdout",
          "text": [
            "[[  14  140]\n",
            " [ 140 1400]]\n",
            "[[1.20260428e+06 6.32743171e+60]\n",
            " [6.32743171e+60            inf]]\n"
          ]
        },
        {
          "output_type": "stream",
          "name": "stderr",
          "text": [
            "/usr/local/lib/python3.7/dist-packages/ipykernel_launcher.py:2: RuntimeWarning: overflow encountered in exp\n",
            "  \n"
          ]
        }
      ],
      "source": [
        "print(arr)\n",
        "print(np.exp(arr))"
      ]
    },
    {
      "cell_type": "code",
      "source": [
        "print(math.pow(2.718281, 14))\n",
        "print(math.pow(2.718281, 140))"
      ],
      "metadata": {
        "colab": {
          "base_uri": "https://localhost:8080/"
        },
        "id": "1CM8SaEA708o",
        "outputId": "1771887f-8490-4095-ad42-c378b6a3141d"
      },
      "execution_count": 72,
      "outputs": [
        {
          "output_type": "stream",
          "name": "stdout",
          "text": [
            "1202599.1528756742\n",
            "6.3271617325812746e+60\n"
          ]
        }
      ]
    },
    {
      "cell_type": "markdown",
      "metadata": {
        "id": "0JF_YYkDmA_U"
      },
      "source": [
        "### element-wise logorithm"
      ]
    },
    {
      "cell_type": "code",
      "execution_count": 73,
      "metadata": {
        "colab": {
          "base_uri": "https://localhost:8080/"
        },
        "id": "ylApp86nmA_V",
        "outputId": "b22d65d5-be0e-433f-996c-d8629536b7db"
      },
      "outputs": [
        {
          "output_type": "stream",
          "name": "stdout",
          "text": [
            "[[  14  140]\n",
            " [ 140 1400]]\n",
            "[[2.63905733 4.94164242]\n",
            " [4.94164242 7.24422752]]\n",
            "2.0\n",
            "148.41315910257657\n",
            "148.41315910257657\n",
            "5.0\n"
          ]
        }
      ],
      "source": [
        "# natural log\n",
        "print(arr)\n",
        "print(np.log(arr))\n",
        "print(np.log(np.e*np.e))\n",
        "print(math.pow(np.e, 5))\n",
        "print(np.e * np.e * np.e * np.e *np.e)\n",
        "print(np.log(math.pow(np.e, 5))) "
      ]
    },
    {
      "cell_type": "code",
      "execution_count": 74,
      "metadata": {
        "colab": {
          "base_uri": "https://localhost:8080/"
        },
        "id": "PayEkcM6mA_V",
        "outputId": "3b72b1f6-7cab-4809-819c-50e6bb4712c4"
      },
      "outputs": [
        {
          "output_type": "stream",
          "name": "stdout",
          "text": [
            "[[ 3.80735492  7.12928302]\n",
            " [ 7.12928302 10.45121111]]\n",
            "4.0\n"
          ]
        }
      ],
      "source": [
        "# base 2\n",
        "print(np.log2(arr))    \n",
        "print(np.log2(16)) # 2ˆ4 = 16"
      ]
    },
    {
      "cell_type": "code",
      "execution_count": 75,
      "metadata": {
        "colab": {
          "base_uri": "https://localhost:8080/"
        },
        "id": "ATd3YYDBmA_W",
        "outputId": "ebc66f35-6c7f-4df8-e440-533a62cb8d7c"
      },
      "outputs": [
        {
          "output_type": "stream",
          "name": "stdout",
          "text": [
            "[[1.14612804 2.14612804]\n",
            " [2.14612804 3.14612804]]\n",
            "3.0\n"
          ]
        }
      ],
      "source": [
        "# base 10\n",
        "print(np.log10(arr))    \n",
        "print(np.log10(1000)) # 10 ^3 = 1000"
      ]
    },
    {
      "cell_type": "markdown",
      "metadata": {
        "id": "KrO5HeWymA_W"
      },
      "source": [
        "### element-wise square root"
      ]
    },
    {
      "cell_type": "code",
      "execution_count": 76,
      "metadata": {
        "colab": {
          "base_uri": "https://localhost:8080/"
        },
        "id": "r7ZynZrxmA_X",
        "outputId": "48d8b203-9207-4898-ae1c-a8880dce16af"
      },
      "outputs": [
        {
          "output_type": "stream",
          "name": "stdout",
          "text": [
            "[[ 3.74165739 11.83215957]\n",
            " [11.83215957 37.41657387]]\n",
            "[[  4   8  16]\n",
            " [100  10  25]]\n",
            "[[ 2.          2.82842712  4.        ]\n",
            " [10.          3.16227766  5.        ]]\n"
          ]
        }
      ],
      "source": [
        "print(np.sqrt(arr))\n",
        "arr5 = np.array([[4, 8, 16], [100, 10, 25]])\n",
        "print(arr5)\n",
        "print(np.sqrt(arr5))"
      ]
    },
    {
      "cell_type": "markdown",
      "metadata": {
        "id": "a8Z6k1mKmA_X"
      },
      "source": [
        "### element-wise sine and cosine"
      ]
    },
    {
      "cell_type": "code",
      "execution_count": 77,
      "metadata": {
        "colab": {
          "base_uri": "https://localhost:8080/"
        },
        "id": "r90giqLtmA_X",
        "outputId": "547cd282-c2ec-4844-da18-ad7395cb9cb1"
      },
      "outputs": [
        {
          "output_type": "stream",
          "name": "stdout",
          "text": [
            "[[ 0.99060736  0.98023966]\n",
            " [ 0.98023966 -0.91289604]]\n",
            "-0.3048106211022167\n",
            "1.0\n"
          ]
        }
      ],
      "source": [
        "print(np.sin(arr))\n",
        "print(np.sin(60))\n",
        "print(np.sin(np.pi/2))"
      ]
    },
    {
      "cell_type": "code",
      "execution_count": 78,
      "metadata": {
        "colab": {
          "base_uri": "https://localhost:8080/"
        },
        "id": "VucCPstVmA_Y",
        "outputId": "09f209b3-3917-4b14-ed9d-3bddaff9c5e9"
      },
      "outputs": [
        {
          "output_type": "stream",
          "name": "stdout",
          "text": [
            "[[ 0.13673722 -0.19781357]\n",
            " [-0.19781357  0.40819214]]\n",
            "-1.0\n"
          ]
        }
      ],
      "source": [
        "print(np.cos(arr))\n",
        "print(np.cos(np.pi))"
      ]
    },
    {
      "cell_type": "markdown",
      "metadata": {
        "id": "-lMxm2QMmA_Y"
      },
      "source": [
        "### sum along a specified axis"
      ]
    },
    {
      "cell_type": "code",
      "execution_count": 79,
      "metadata": {
        "colab": {
          "base_uri": "https://localhost:8080/"
        },
        "id": "msAt4iN7mA_Y",
        "outputId": "5036d37f-11d2-42be-ada1-54782c468637"
      },
      "outputs": [
        {
          "output_type": "stream",
          "name": "stdout",
          "text": [
            "[[  4   8  16]\n",
            " [100  10  25]]\n",
            "[104  18  41]\n"
          ]
        }
      ],
      "source": [
        "# sum along the row\n",
        "print(arr5)\n",
        "print(np.sum(arr5, axis=0))    "
      ]
    },
    {
      "cell_type": "code",
      "execution_count": 80,
      "metadata": {
        "colab": {
          "base_uri": "https://localhost:8080/"
        },
        "id": "SwWmPUL4mA_Y",
        "outputId": "92c7d1de-53e8-4144-a471-030d4dfa3cc5"
      },
      "outputs": [
        {
          "output_type": "stream",
          "name": "stdout",
          "text": [
            "[[  4   8  16]\n",
            " [100  10  25]]\n",
            "[ 28 135]\n"
          ]
        }
      ],
      "source": [
        "# sum along the column\n",
        "print(arr5)\n",
        "print(np.sum(arr5, axis=1))    "
      ]
    },
    {
      "cell_type": "markdown",
      "metadata": {
        "id": "dbeU2sVdmA_Z"
      },
      "source": [
        "### compute the min and max along a specified axis\n",
        "Returns the minimum element across every row and column 😀"
      ]
    },
    {
      "cell_type": "code",
      "execution_count": 81,
      "metadata": {
        "colab": {
          "base_uri": "https://localhost:8080/"
        },
        "id": "LyzRf_yrmA_Z",
        "outputId": "6ba21f31-ba03-4c74-f156-748a2a6c8aa9"
      },
      "outputs": [
        {
          "output_type": "stream",
          "name": "stdout",
          "text": [
            "[[  4   8  16]\n",
            " [100  10  25]]\n",
            "[ 4  8 16]\n"
          ]
        }
      ],
      "source": [
        "# calculate min along the column\n",
        "print(arr5)\n",
        "print(np.min(arr5, axis=0))"
      ]
    },
    {
      "cell_type": "code",
      "source": [
        "arr6 = np.array([[1, 2, 3.3 , 0.4, 5, 6], [10, 20, 30, 40, 50, 60], [100, 0.2, 7, 0.4, 0.5,7]])\n",
        "print(arr6)\n",
        "print(\"\\n\")\n",
        "print(np.min(arr6, axis=0)) # axis=0 means operations done column wise\n",
        "print(\"\\n\")\n",
        "print(np.min(arr6, axis=1)) # axis=1 means operations done row wise"
      ],
      "metadata": {
        "colab": {
          "base_uri": "https://localhost:8080/"
        },
        "id": "ds9IXBtIuRQ9",
        "outputId": "d2a35b44-8b6a-4d69-9122-4a1d44039a87"
      },
      "execution_count": 82,
      "outputs": [
        {
          "output_type": "stream",
          "name": "stdout",
          "text": [
            "[[  1.    2.    3.3   0.4   5.    6. ]\n",
            " [ 10.   20.   30.   40.   50.   60. ]\n",
            " [100.    0.2   7.    0.4   0.5   7. ]]\n",
            "\n",
            "\n",
            "[1.  0.2 3.3 0.4 0.5 6. ]\n",
            "\n",
            "\n",
            "[ 0.4 10.   0.2]\n"
          ]
        }
      ]
    },
    {
      "cell_type": "markdown",
      "source": [
        "Returns the minimum element across every row and column"
      ],
      "metadata": {
        "id": "8_VI_sX9wFGH"
      }
    },
    {
      "cell_type": "code",
      "execution_count": 83,
      "metadata": {
        "colab": {
          "base_uri": "https://localhost:8080/"
        },
        "id": "-lWdcNn6mA_Z",
        "outputId": "87fc31ab-50a4-48d7-a794-45a085ba7a77"
      },
      "outputs": [
        {
          "output_type": "stream",
          "name": "stdout",
          "text": [
            "[ 140 1400]\n",
            "[  6.  60. 100.]\n"
          ]
        }
      ],
      "source": [
        "# calculate max along the row\n",
        "print(np.max(arr, axis=1))    \n",
        "print(np.max(arr6, axis=1))"
      ]
    },
    {
      "cell_type": "code",
      "execution_count": 84,
      "metadata": {
        "colab": {
          "base_uri": "https://localhost:8080/"
        },
        "id": "vqgibItTmA_a",
        "outputId": "fee94df8-5e27-4d4b-8abb-463db70a1645"
      },
      "outputs": [
        {
          "output_type": "stream",
          "name": "stdout",
          "text": [
            "[[  1.    2.    3.3   0.4   5.    6. ]\n",
            " [ 10.   20.   30.   40.   50.   60. ]\n",
            " [100.    0.2   7.    0.4   0.5   7. ]]\n",
            "100.0\n",
            "0.2\n"
          ]
        }
      ],
      "source": [
        "# if axis not specified, calculate the max/min value of all elements\n",
        "print(arr6)\n",
        "print(np.max(arr6))\n",
        "print(np.min(arr6))"
      ]
    },
    {
      "cell_type": "code",
      "source": [
        "np.full((3, 6), np.max(arr6)) # calculates the max of arr6 across all elements and then a full matrix with that element.\n"
      ],
      "metadata": {
        "colab": {
          "base_uri": "https://localhost:8080/"
        },
        "id": "Vpn1Pm33xeHz",
        "outputId": "3167d98f-41f3-4fad-853c-5ece396881cb"
      },
      "execution_count": 85,
      "outputs": [
        {
          "output_type": "execute_result",
          "data": {
            "text/plain": [
              "array([[100., 100., 100., 100., 100., 100.],\n",
              "       [100., 100., 100., 100., 100., 100.],\n",
              "       [100., 100., 100., 100., 100., 100.]])"
            ]
          },
          "metadata": {},
          "execution_count": 85
        }
      ]
    },
    {
      "cell_type": "markdown",
      "metadata": {
        "id": "glX-509mmA_a"
      },
      "source": [
        "### compute the indices of the min and max along a specified axis"
      ]
    },
    {
      "cell_type": "code",
      "execution_count": 86,
      "metadata": {
        "colab": {
          "base_uri": "https://localhost:8080/"
        },
        "id": "IzK2D2j8mA_a",
        "outputId": "b3010c16-f042-40f3-edc5-3662378b7c5e"
      },
      "outputs": [
        {
          "output_type": "stream",
          "name": "stdout",
          "text": [
            "[0 2 0 0 2 0]\n",
            "[2 1 1 1 1 1]\n"
          ]
        }
      ],
      "source": [
        "# along the row\n",
        "print(np.argmin(arr6, axis=0))\n",
        "print(np.argmax(arr6, axis=0))"
      ]
    },
    {
      "cell_type": "code",
      "execution_count": 87,
      "metadata": {
        "colab": {
          "base_uri": "https://localhost:8080/"
        },
        "id": "aBm98HVWmA_a",
        "outputId": "8a593cca-24a8-4ecd-9ed8-cfc8723a6c1f"
      },
      "outputs": [
        {
          "output_type": "stream",
          "name": "stdout",
          "text": [
            "[0 0]\n",
            "[1 1]\n"
          ]
        }
      ],
      "source": [
        "# along the column\n",
        "print(np.argmin(arr, axis=1))\n",
        "print(np.argmax(arr, axis=1))"
      ]
    },
    {
      "cell_type": "code",
      "execution_count": 88,
      "metadata": {
        "colab": {
          "base_uri": "https://localhost:8080/"
        },
        "id": "iwSS9GSpmA_a",
        "outputId": "466430f9-0dfb-428d-a79c-0537cee60d6f"
      },
      "outputs": [
        {
          "output_type": "stream",
          "name": "stdout",
          "text": [
            "13\n",
            "12\n"
          ]
        }
      ],
      "source": [
        "# if axis not specified, return the index of the flattened array\n",
        "print(np.argmin(arr6))\n",
        "print(np.argmax(arr6))"
      ]
    },
    {
      "cell_type": "markdown",
      "metadata": {
        "id": "QhTRe0XEmA_b"
      },
      "source": [
        "### compute element-wise min and max of two arrays"
      ]
    },
    {
      "cell_type": "code",
      "execution_count": 89,
      "metadata": {
        "colab": {
          "base_uri": "https://localhost:8080/"
        },
        "id": "P3gt8UnUmA_b",
        "outputId": "507953ee-4c5e-4795-8197-e6732864c683"
      },
      "outputs": [
        {
          "output_type": "stream",
          "name": "stdout",
          "text": [
            "[1 3 5 7 9]\n",
            "[0 7 3 8 7]\n",
            "25\n",
            "25\n",
            "-----\n",
            "[1 7 5 8 9]\n",
            "[0 3 3 7 7]\n"
          ]
        }
      ],
      "source": [
        "arr1 = np.array([1, 3, 5, 7, 9])\n",
        "arr2 = np.array([0, 7, 3, 8, 7])\n",
        "print(arr1)\n",
        "print(arr2)\n",
        "a = sum(arr1)\n",
        "b = sum(arr2)\n",
        "print(a)\n",
        "print(b)\n",
        "print(\"-----\")\n",
        "print(np.maximum(arr1, arr2))\n",
        "print(np.minimum(arr1, arr2))"
      ]
    },
    {
      "cell_type": "markdown",
      "metadata": {
        "id": "Sudrk91wmA_b"
      },
      "source": [
        "### split fractional and integral parts of a floating-point array"
      ]
    },
    {
      "cell_type": "code",
      "execution_count": 90,
      "metadata": {
        "colab": {
          "base_uri": "https://localhost:8080/"
        },
        "id": "1PlXB-lFmA_b",
        "outputId": "6c2b2a1e-e505-4597-db12-efb038db55a9"
      },
      "outputs": [
        {
          "output_type": "stream",
          "name": "stdout",
          "text": [
            "[9.67834966 5.21177703 9.29442831 6.10072665 2.25433326 2.02103562\n",
            " 5.54589513 5.16370088 9.858161   2.74932294]\n",
            "fractional:  [0.67834966 0.21177703 0.29442831 0.10072665 0.25433326 0.02103562\n",
            " 0.54589513 0.16370088 0.858161   0.74932294]\n",
            "integral:  [9. 5. 9. 6. 2. 2. 5. 5. 9. 2.]\n"
          ]
        }
      ],
      "source": [
        "arr1 = np.random.rand(10) * 10\n",
        "re, intg = np.modf(arr1)\n",
        "print(arr1)\n",
        "print('fractional: ', re)\n",
        "print('integral: ', intg)"
      ]
    },
    {
      "cell_type": "markdown",
      "metadata": {
        "id": "A2_rsJd4mA_b"
      },
      "source": [
        "### compute the mean"
      ]
    },
    {
      "cell_type": "code",
      "execution_count": 91,
      "metadata": {
        "colab": {
          "base_uri": "https://localhost:8080/"
        },
        "id": "lmbZILfmmA_b",
        "outputId": "872bf7b0-2cd3-4a61-dbbd-838a84abe105"
      },
      "outputs": [
        {
          "output_type": "stream",
          "name": "stdout",
          "text": [
            "[[  14  140]\n",
            " [ 140 1400]]\n",
            "423.5\n"
          ]
        }
      ],
      "source": [
        "# compute the overall mean\n",
        "print(arr)\n",
        "print(np.mean(arr))"
      ]
    },
    {
      "cell_type": "code",
      "execution_count": 92,
      "metadata": {
        "colab": {
          "base_uri": "https://localhost:8080/"
        },
        "id": "Uzdnf08vmA_c",
        "outputId": "3f95c053-8214-45be-eff1-b45201398c4b"
      },
      "outputs": [
        {
          "output_type": "stream",
          "name": "stdout",
          "text": [
            "[ 77. 770.]\n"
          ]
        }
      ],
      "source": [
        "# compute the mean along the row\n",
        "print(np.mean(arr, axis=0))   "
      ]
    },
    {
      "cell_type": "code",
      "execution_count": 93,
      "metadata": {
        "colab": {
          "base_uri": "https://localhost:8080/"
        },
        "id": "eZv5qqK5mA_c",
        "outputId": "f8b39486-3c3e-4c7b-d6c0-cfebd592f1ef"
      },
      "outputs": [
        {
          "output_type": "stream",
          "name": "stdout",
          "text": [
            "[ 77. 770.]\n"
          ]
        }
      ],
      "source": [
        "# compute the mean along the column\n",
        "print(np.mean(arr, axis=1)) "
      ]
    },
    {
      "cell_type": "markdown",
      "metadata": {
        "id": "WgdtatjqmA_c"
      },
      "source": [
        "### compute the median"
      ]
    },
    {
      "cell_type": "code",
      "execution_count": 94,
      "metadata": {
        "colab": {
          "base_uri": "https://localhost:8080/"
        },
        "id": "dm1LcGi6mA_c",
        "outputId": "8e04b110-d63c-4220-cd7c-4ab6a8e00754"
      },
      "outputs": [
        {
          "output_type": "stream",
          "name": "stdout",
          "text": [
            "140.0\n"
          ]
        }
      ],
      "source": [
        "# compute the overall median\n",
        "print(np.median(arr))"
      ]
    },
    {
      "cell_type": "code",
      "execution_count": 95,
      "metadata": {
        "colab": {
          "base_uri": "https://localhost:8080/"
        },
        "id": "h7otrroWmA_c",
        "outputId": "ebce60ac-4dfb-4534-9549-bfe4d2dc4294"
      },
      "outputs": [
        {
          "output_type": "stream",
          "name": "stdout",
          "text": [
            "[ 77. 770.]\n"
          ]
        }
      ],
      "source": [
        "# compute the median along the row\n",
        "print(np.median(arr, axis=0)) "
      ]
    },
    {
      "cell_type": "code",
      "execution_count": 96,
      "metadata": {
        "colab": {
          "base_uri": "https://localhost:8080/"
        },
        "id": "ZpR5sWb7mA_d",
        "outputId": "288c4ed1-6c5d-4a7e-bdeb-4a4c2fa52fd9"
      },
      "outputs": [
        {
          "output_type": "stream",
          "name": "stdout",
          "text": [
            "[ 77. 770.]\n"
          ]
        }
      ],
      "source": [
        "# compute the median along the column\n",
        "print(np.median(arr, axis=1))"
      ]
    },
    {
      "cell_type": "markdown",
      "metadata": {
        "id": "CqtC66fkmA_d"
      },
      "source": [
        "### compute the percentile"
      ]
    },
    {
      "cell_type": "code",
      "execution_count": 97,
      "metadata": {
        "colab": {
          "base_uri": "https://localhost:8080/"
        },
        "id": "x_SnzGmMmA_d",
        "outputId": "0a7d9184-cb09-48bd-f47d-83b5a5dcdc58"
      },
      "outputs": [
        {
          "output_type": "stream",
          "name": "stdout",
          "text": [
            "[0.03205989 0.63041507 0.96844927]\n"
          ]
        }
      ],
      "source": [
        "arr1 = np.random.rand(100)\n",
        "# compute 5, 65, and 95 percentiles of the array\n",
        "print(np.percentile(arr1, [5, 65, 95]))"
      ]
    },
    {
      "cell_type": "markdown",
      "metadata": {
        "id": "AQuRNxWkmA_d"
      },
      "source": [
        "### compute the standard deviation & variance"
      ]
    },
    {
      "cell_type": "code",
      "execution_count": 98,
      "metadata": {
        "colab": {
          "base_uri": "https://localhost:8080/"
        },
        "id": "bEiU4hyJmA_d",
        "outputId": "9a3b61b6-f05e-4444-9c96-768aa01861bb"
      },
      "outputs": [
        {
          "output_type": "stream",
          "name": "stdout",
          "text": [
            "566.1243238017599\n"
          ]
        }
      ],
      "source": [
        "# compute the overall standard deviation\n",
        "print(np.std(arr))"
      ]
    },
    {
      "cell_type": "code",
      "execution_count": 99,
      "metadata": {
        "colab": {
          "base_uri": "https://localhost:8080/"
        },
        "id": "8AyX9KalmA_d",
        "outputId": "cecbadad-2597-4849-fdc4-16cac14e7964"
      },
      "outputs": [
        {
          "output_type": "stream",
          "name": "stdout",
          "text": [
            "[ 63. 630.]\n"
          ]
        }
      ],
      "source": [
        "# compute the standard deviation along the row\n",
        "print(np.std(arr, axis=0))"
      ]
    },
    {
      "cell_type": "code",
      "execution_count": 100,
      "metadata": {
        "colab": {
          "base_uri": "https://localhost:8080/"
        },
        "id": "YYIAdT1pmA_e",
        "outputId": "089de2fa-11af-414e-f523-ad52d9de46a4"
      },
      "outputs": [
        {
          "output_type": "stream",
          "name": "stdout",
          "text": [
            "[ 63. 630.]\n"
          ]
        }
      ],
      "source": [
        "# compute the standard deviation along the column\n",
        "print(np.std(arr, axis=1))"
      ]
    },
    {
      "cell_type": "code",
      "execution_count": 101,
      "metadata": {
        "colab": {
          "base_uri": "https://localhost:8080/"
        },
        "id": "71DMGmVRmA_e",
        "outputId": "2773ea07-6f94-4861-b46a-3a7ba361f1a0"
      },
      "outputs": [
        {
          "output_type": "stream",
          "name": "stdout",
          "text": [
            "320496.75\n"
          ]
        }
      ],
      "source": [
        "# compute the overall variance\n",
        "print(np.var(arr))"
      ]
    },
    {
      "cell_type": "code",
      "execution_count": 102,
      "metadata": {
        "colab": {
          "base_uri": "https://localhost:8080/"
        },
        "id": "7rljDQFdmA_e",
        "outputId": "e2f25391-e54e-45c6-db0b-22d88826a360"
      },
      "outputs": [
        {
          "output_type": "stream",
          "name": "stdout",
          "text": [
            "[  3969. 396900.]\n"
          ]
        }
      ],
      "source": [
        "# compute the variance along the row\n",
        "print(np.var(arr, axis=0))"
      ]
    },
    {
      "cell_type": "code",
      "execution_count": 103,
      "metadata": {
        "colab": {
          "base_uri": "https://localhost:8080/"
        },
        "id": "nLEl5ybYmA_e",
        "outputId": "cb6d907c-f183-42fe-83dc-2e767a38ea5d"
      },
      "outputs": [
        {
          "output_type": "stream",
          "name": "stdout",
          "text": [
            "[  3969. 396900.]\n"
          ]
        }
      ],
      "source": [
        "# compute the variance along the column\n",
        "print(np.var(arr, axis=1))"
      ]
    },
    {
      "cell_type": "markdown",
      "metadata": {
        "id": "R1x6UdyVmA_e"
      },
      "source": [
        "### compute the covariance & correlation"
      ]
    },
    {
      "cell_type": "code",
      "execution_count": 104,
      "metadata": {
        "id": "KKz79vFzmA_e"
      },
      "outputs": [],
      "source": [
        "arr = np.random.rand(5,8)"
      ]
    },
    {
      "cell_type": "code",
      "execution_count": 105,
      "metadata": {
        "colab": {
          "base_uri": "https://localhost:8080/"
        },
        "id": "fdiySKCEmA_f",
        "outputId": "2bad932d-4695-44d0-9d09-e5149ee687e2"
      },
      "outputs": [
        {
          "output_type": "stream",
          "name": "stdout",
          "text": [
            "[[ 0.08970824 -0.04529594  0.00667622 -0.03101472  0.0002189 ]\n",
            " [-0.04529594  0.10383253  0.00643204 -0.03462986 -0.00737568]\n",
            " [ 0.00667622  0.00643204  0.14922326 -0.00143516  0.05276725]\n",
            " [-0.03101472 -0.03462986 -0.00143516  0.08231721  0.01799716]\n",
            " [ 0.0002189  -0.00737568  0.05276725  0.01799716  0.0882886 ]]\n"
          ]
        }
      ],
      "source": [
        "print(np.cov(arr))"
      ]
    },
    {
      "cell_type": "code",
      "execution_count": 106,
      "metadata": {
        "colab": {
          "base_uri": "https://localhost:8080/"
        },
        "id": "YKNgVRPsmA_f",
        "outputId": "e6eedf68-9713-42c2-8958-58a25a5865fe"
      },
      "outputs": [
        {
          "output_type": "stream",
          "name": "stdout",
          "text": [
            "[[1.         0.37761044]\n",
            " [0.37761044 1.        ]]\n"
          ]
        }
      ],
      "source": [
        "print(np.corrcoef(arr[:,0], arr[:,1]))"
      ]
    },
    {
      "cell_type": "markdown",
      "metadata": {
        "id": "pzJOuJLfmA_f"
      },
      "source": [
        "### compute cumulative sum & product"
      ]
    },
    {
      "cell_type": "code",
      "execution_count": 107,
      "metadata": {
        "colab": {
          "base_uri": "https://localhost:8080/"
        },
        "id": "OAIhK0B1mA_f",
        "outputId": "f5e7c9f6-e60b-4038-b8b1-958cb1327246"
      },
      "outputs": [
        {
          "output_type": "stream",
          "name": "stdout",
          "text": [
            "[[0.91167244 0.73374518 0.10499104 0.86913819 0.86290781 0.32562759\n",
            "  0.37994586 0.54318573]\n",
            " [1.38408296 1.05228898 1.04077862 1.09021966 1.25043241 0.41813989\n",
            "  1.2897641  0.71284424]\n",
            " [1.89884805 2.03529876 1.16960328 1.69654242 1.34875457 1.1084022\n",
            "  2.26599499 0.72535772]\n",
            " [2.0190483  2.26455403 1.68507146 2.55546104 1.67387801 2.0454888\n",
            "  2.68690231 1.27025381]\n",
            " [2.73056333 2.48698557 1.78984799 3.11584518 1.69324115 2.67599257\n",
            "  3.50896705 1.8206241 ]]\n"
          ]
        }
      ],
      "source": [
        "# calculate the cumulative sums along the row\n",
        "print(np.cumsum(arr, axis=0))    "
      ]
    },
    {
      "cell_type": "code",
      "execution_count": 108,
      "metadata": {
        "colab": {
          "base_uri": "https://localhost:8080/"
        },
        "id": "rTR1QhqpmA_f",
        "outputId": "6662b57e-bde2-4ea1-c36d-13f9be3d0122"
      },
      "outputs": [
        {
          "output_type": "stream",
          "name": "stdout",
          "text": [
            "[[0.91167244 1.64541762 1.75040865 2.61954684 3.48245465 3.80808224\n",
            "  4.1880281  4.73121383]\n",
            " [0.47241052 0.79095432 1.7267419  1.94782337 2.33534797 2.42786027\n",
            "  3.3376785  3.50733702]\n",
            " [0.51476509 1.49777488 1.62659953 2.2329223  2.33124447 3.02150678\n",
            "  3.99773767 4.01025115]\n",
            " [0.12020025 0.34945552 0.8649237  1.72384233 2.04896576 2.98605236\n",
            "  3.40695968 3.95185577]\n",
            " [0.71151503 0.93394657 1.0387231  1.59910723 1.61847037 2.24897414\n",
            "  3.07103889 3.62140918]]\n"
          ]
        }
      ],
      "source": [
        "# calculate the cumulative sums along the column\n",
        "print(np.cumsum(arr, axis=1))    "
      ]
    },
    {
      "cell_type": "code",
      "execution_count": 109,
      "metadata": {
        "colab": {
          "base_uri": "https://localhost:8080/"
        },
        "id": "u4GdK5bOmA_f",
        "outputId": "40e735a1-ee57-4e7c-fdc2-0093600f4c18"
      },
      "outputs": [
        {
          "output_type": "stream",
          "name": "stdout",
          "text": [
            "[[9.11672438e-01 7.33745178e-01 1.04991038e-01 8.69138185e-01\n",
            "  8.62907813e-01 3.25627589e-01 3.79945861e-01 5.43185726e-01]\n",
            " [4.30683653e-01 2.33729975e-01 9.82493097e-02 1.92150350e-01\n",
            "  3.34397999e-01 3.01245577e-02 3.45681673e-01 9.21560813e-02]\n",
            " [2.21700909e-01 2.29758853e-01 1.26569337e-02 1.16505131e-01\n",
            "  3.28787362e-02 2.07938468e-02 3.37465128e-01 1.15319335e-03]\n",
            " [2.66485056e-02 5.26734263e-02 6.52424666e-03 1.00068427e-01\n",
            "  1.06896476e-02 1.94856352e-02 1.42041543e-01 6.28370545e-04]\n",
            " [1.89608123e-02 1.17162313e-02 6.83587901e-04 5.60767588e-02\n",
            "  2.06985165e-04 1.22857664e-02 1.16767345e-01 3.45836482e-04]]\n"
          ]
        }
      ],
      "source": [
        "# calculate the cumulative product along the row\n",
        "print(np.cumprod(arr, axis=0))   "
      ]
    },
    {
      "cell_type": "code",
      "execution_count": 110,
      "metadata": {
        "colab": {
          "base_uri": "https://localhost:8080/"
        },
        "id": "A_Q2rMl9mA_g",
        "outputId": "a5d4095d-8b22-414b-cddb-267a2833fdf9"
      },
      "outputs": [
        {
          "output_type": "stream",
          "name": "stdout",
          "text": [
            "[[9.11672438e-01 6.68935256e-01 7.02322070e-02 6.10414929e-02\n",
            "  5.26731812e-02 1.71518410e-02 6.51677099e-03 3.53981698e-03]\n",
            " [4.72410523e-01 1.50483442e-01 1.40820536e-01 3.11328114e-02\n",
            "  1.20647301e-02 1.11613595e-03 1.01548084e-03 1.72284967e-04]\n",
            " [5.14765089e-01 5.06019121e-01 6.51877402e-02 3.95248108e-02\n",
            "  3.88616508e-03 2.68247329e-03 2.61871329e-03 3.27692183e-05]\n",
            " [1.20200254e-01 2.75565409e-02 1.42045201e-02 1.22005269e-02\n",
            "  3.96667719e-03 3.71712003e-03 1.56456304e-03 8.52524281e-04]\n",
            " [7.11515030e-01 1.58263384e-01 1.65822876e-02 9.29245089e-03\n",
            "  1.79931047e-04 1.13447203e-04 9.32609458e-05 5.13280542e-05]]\n"
          ]
        }
      ],
      "source": [
        "# calculate the cumulative product along the column\n",
        "print(np.cumprod(arr, axis=1))  "
      ]
    },
    {
      "cell_type": "markdown",
      "metadata": {
        "id": "3Rj2IWPjmA_g"
      },
      "source": [
        "### element-wise comparison"
      ]
    },
    {
      "cell_type": "code",
      "execution_count": 111,
      "metadata": {
        "id": "iFAdDrKnmA_g"
      },
      "outputs": [],
      "source": [
        "arr1 = np.array([1,2,3,4,5])\n",
        "arr2 = np.array([5,4,3,2,1])"
      ]
    },
    {
      "cell_type": "code",
      "execution_count": 112,
      "metadata": {
        "colab": {
          "base_uri": "https://localhost:8080/"
        },
        "id": "lV7Rv7K2mA_g",
        "outputId": "0f86e626-a39d-44fb-fca7-e807b101e76f"
      },
      "outputs": [
        {
          "output_type": "stream",
          "name": "stdout",
          "text": [
            "[False False  True False False]\n",
            "[ True  True False False False]\n"
          ]
        }
      ],
      "source": [
        "# return an array of bools\n",
        "print(arr1 == arr2)    \n",
        "print(arr1 < 3)"
      ]
    }
  ],
  "metadata": {
    "kernelspec": {
      "display_name": "Python 3",
      "language": "python",
      "name": "python3"
    },
    "language_info": {
      "codemirror_mode": {
        "name": "ipython",
        "version": 3
      },
      "file_extension": ".py",
      "mimetype": "text/x-python",
      "name": "python",
      "nbconvert_exporter": "python",
      "pygments_lexer": "ipython3",
      "version": "3.6.6"
    },
    "colab": {
      "provenance": [],
      "collapsed_sections": [
        "R1x6UdyVmA_e",
        "pzJOuJLfmA_f",
        "3Rj2IWPjmA_g"
      ],
      "include_colab_link": true
    }
  },
  "nbformat": 4,
  "nbformat_minor": 0
}