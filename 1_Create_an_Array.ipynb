{
  "cells": [
    {
      "cell_type": "markdown",
      "metadata": {
        "id": "view-in-github",
        "colab_type": "text"
      },
      "source": [
        "<a href=\"https://colab.research.google.com/github/JesusjrGalvez/Tutorial_numpy/blob/main/1_Create_an_Array.ipynb\" target=\"_parent\"><img src=\"https://colab.research.google.com/assets/colab-badge.svg\" alt=\"Open In Colab\"/></a>"
      ]
    },
    {
      "cell_type": "code",
      "execution_count": 54,
      "metadata": {
        "id": "6ypQIpwvs7G1"
      },
      "outputs": [],
      "source": [
        "import numpy as np"
      ]
    },
    {
      "cell_type": "markdown",
      "metadata": {
        "id": "vGs-xTDEs7G5"
      },
      "source": [
        "### Create an array from an iterable\n",
        "Such as\n",
        "- ```list```\n",
        "- ```tuple```\n",
        "- ```range``` iterator\n",
        "\n",
        "Notice that not all iterables can be used to create a numpy array, such as ```set``` and ```dict```"
      ]
    },
    {
      "cell_type": "code",
      "execution_count": 55,
      "metadata": {
        "colab": {
          "base_uri": "https://localhost:8080/"
        },
        "id": "DPhKgiIes7G7",
        "outputId": "32aeb096-f2ca-4fa6-b787-10a17ba8c337"
      },
      "outputs": [
        {
          "output_type": "stream",
          "name": "stdout",
          "text": [
            "[1 2 3 4 5]\n"
          ]
        }
      ],
      "source": [
        "arr = np.array([1,2,3,4,5])\n",
        "print(arr)"
      ]
    },
    {
      "cell_type": "code",
      "execution_count": 56,
      "metadata": {
        "colab": {
          "base_uri": "https://localhost:8080/"
        },
        "id": "Kn2beDmts7G8",
        "outputId": "1bff2855-a198-4784-a5d9-d0f187ddef15"
      },
      "outputs": [
        {
          "output_type": "stream",
          "name": "stdout",
          "text": [
            "[1 2 3 4 5]\n"
          ]
        }
      ],
      "source": [
        "arr = np.array((1,2,3,4,5))\n",
        "print(arr)"
      ]
    },
    {
      "cell_type": "code",
      "execution_count": 57,
      "metadata": {
        "colab": {
          "base_uri": "https://localhost:8080/"
        },
        "id": "WP0robbss7G9",
        "outputId": "2a1eb125-c683-4d78-ff08-29cd2c045303"
      },
      "outputs": [
        {
          "output_type": "stream",
          "name": "stdout",
          "text": [
            "[0 1 2 3 4 5 6 7 8 9]\n"
          ]
        }
      ],
      "source": [
        "arr = np.array(range(10))\n",
        "print(arr)"
      ]
    },
    {
      "cell_type": "markdown",
      "metadata": {
        "id": "RtFYm5lHs7G-"
      },
      "source": [
        "### Create an array with specified data type"
      ]
    },
    {
      "cell_type": "code",
      "execution_count": 58,
      "metadata": {
        "colab": {
          "base_uri": "https://localhost:8080/"
        },
        "id": "V5QDPVtrs7G-",
        "outputId": "8a8e6b7d-3f16-46a9-c437-1a0f344aa273"
      },
      "outputs": [
        {
          "output_type": "stream",
          "name": "stdout",
          "text": [
            "[[1 2 3]\n",
            " [4 5 6]]\n",
            "Data Type: int16\n",
            "int16\n"
          ]
        }
      ],
      "source": [
        "arr = np.array([[1,2,3], [4,5,6]], dtype='i2')\n",
        "print(arr)\n",
        "print('Data Type: ' + str(arr.dtype))\n",
        "print(arr.dtype)"
      ]
    },
    {
      "cell_type": "code",
      "source": [
        "print(arr.dtype)"
      ],
      "metadata": {
        "colab": {
          "base_uri": "https://localhost:8080/"
        },
        "id": "63M-HN8btePI",
        "outputId": "5225998a-823d-4e0b-b000-875108caec41"
      },
      "execution_count": 59,
      "outputs": [
        {
          "output_type": "stream",
          "name": "stdout",
          "text": [
            "int16\n"
          ]
        }
      ]
    },
    {
      "cell_type": "markdown",
      "metadata": {
        "id": "WwpPo2Bus7G_"
      },
      "source": [
        "### Create an aray within specified range\n",
        "```np.arange()``` method can be used to replace ```np.array(range())``` method"
      ]
    },
    {
      "cell_type": "code",
      "execution_count": 60,
      "metadata": {
        "colab": {
          "base_uri": "https://localhost:8080/"
        },
        "id": "obKoVSyus7HA",
        "outputId": "caae6641-ec48-406a-f42b-87c8cab98fa4"
      },
      "outputs": [
        {
          "output_type": "stream",
          "name": "stdout",
          "text": [
            "[-10  -5   0   5  10]\n"
          ]
        }
      ],
      "source": [
        "# np.arange(start, stop, step)\n",
        "arr = np.arange(0, 20, 2)  \n",
        "arr = np.arange(-10, 10+1, 5)\n",
        "print(arr)"
      ]
    },
    {
      "cell_type": "markdown",
      "source": [],
      "metadata": {
        "id": "SJ-dDBsEyD2A"
      }
    },
    {
      "cell_type": "markdown",
      "metadata": {
        "id": "ySuSuh6Ds7HB"
      },
      "source": [
        "### Create an array of evenly spaced numbers within specified range\n",
        "```np.linspace(start, stop, num_of_elements, endpoint=True, retstep=False)``` has 5 parameters:\n",
        "- ```start```: start number (inclusive)\n",
        "- ```stop```: end number (inclusive unless ```endpoint``` set to ```False```)\n",
        "- ```num_of_elements```: number of elements contained in the array\n",
        "- ```endpoint```: boolean value representing whether the ```stop``` number is inclusive or not\n",
        "- ```retstep```: boolean value representing whether to return the step size"
      ]
    },
    {
      "cell_type": "code",
      "source": [
        "arr = np.linspace(2, 3, num=5)\n",
        "print(arr)"
      ],
      "metadata": {
        "colab": {
          "base_uri": "https://localhost:8080/"
        },
        "id": "vGup_6davMI6",
        "outputId": "76dd9f5d-5a8a-47be-add2-b5566287442a"
      },
      "execution_count": 61,
      "outputs": [
        {
          "output_type": "stream",
          "name": "stdout",
          "text": [
            "[2.   2.25 2.5  2.75 3.  ]\n"
          ]
        }
      ]
    },
    {
      "cell_type": "code",
      "execution_count": 62,
      "metadata": {
        "colab": {
          "base_uri": "https://localhost:8080/"
        },
        "id": "R0E0nI_Xs7HB",
        "outputId": "af9726ee-8e3d-46db-b7f8-3ed66ab8b89a"
      },
      "outputs": [
        {
          "output_type": "stream",
          "name": "stdout",
          "text": [
            "[0.    0.625 1.25  1.875 2.5   3.125 3.75  4.375]\n",
            "The step size is 0.625\n"
          ]
        }
      ],
      "source": [
        "arr, step_size = np.linspace(0, 5, 8, endpoint=False, retstep=True)\n",
        "print(arr)\n",
        "print('The step size is ' + str(step_size))"
      ]
    },
    {
      "cell_type": "markdown",
      "metadata": {
        "id": "3_SXRMvKs7HC"
      },
      "source": [
        "### Create an array of random values of given shape\n",
        "```np.random.rand()``` method returns values in the range [0,1)"
      ]
    },
    {
      "cell_type": "code",
      "source": [
        "arr = np.random.rand(1, 10)\n",
        "print(arr)"
      ],
      "metadata": {
        "colab": {
          "base_uri": "https://localhost:8080/"
        },
        "id": "6DDOjPyzv1LZ",
        "outputId": "a88568b6-2016-4347-ec66-4d948d0d3811"
      },
      "execution_count": 63,
      "outputs": [
        {
          "output_type": "stream",
          "name": "stdout",
          "text": [
            "[[0.1157552  0.42667931 0.58408708 0.83216801 0.79182427 0.18651578\n",
            "  0.98261948 0.24029637 0.15030248 0.27722194]]\n"
          ]
        }
      ]
    },
    {
      "cell_type": "code",
      "execution_count": 64,
      "metadata": {
        "colab": {
          "base_uri": "https://localhost:8080/"
        },
        "id": "Tg2mCGQos7HC",
        "outputId": "6c938f4d-7129-4249-c5a8-6c0193bba447"
      },
      "outputs": [
        {
          "output_type": "stream",
          "name": "stdout",
          "text": [
            "[[0.56805767 0.31382589 0.4138018 ]\n",
            " [0.04785056 0.02782902 0.86233306]\n",
            " [0.28136123 0.9409143  0.91404467]]\n"
          ]
        }
      ],
      "source": [
        "arr = np.random.rand(3, 3)\n",
        "print(arr)\n"
      ]
    },
    {
      "cell_type": "markdown",
      "metadata": {
        "id": "ilb-aTNLs7HD"
      },
      "source": [
        "### Create an array of zeros of given shape \n",
        "- ```np.zeros()```: create array of all zeros in given shape\n",
        "- ```np.zeros_like()```: create array of all zeros with the same shape and data type as the given input array"
      ]
    },
    {
      "cell_type": "code",
      "execution_count": 65,
      "metadata": {
        "colab": {
          "base_uri": "https://localhost:8080/"
        },
        "id": "1rtZv6V4s7HD",
        "outputId": "76e1875b-f5b2-4134-aee7-01a6e41d98b2"
      },
      "outputs": [
        {
          "output_type": "stream",
          "name": "stdout",
          "text": [
            "[[0. 0. 0.]\n",
            " [0. 0. 0.]]\n",
            "[[0.4376865  0.41178427 0.86953542 0.09552746 0.98369306 0.46907286\n",
            "  0.57293829 0.29658403 0.83258066 0.05258692]]\n",
            "[[0. 0. 0. 0. 0. 0. 0. 0. 0. 0.]]\n"
          ]
        }
      ],
      "source": [
        "zeros = np.zeros((2,3))\n",
        "print(zeros)\n",
        "arr = np.random.rand(1, 10)\n",
        "print(arr)\n",
        "print(np.zeros_like(arr))"
      ]
    },
    {
      "cell_type": "code",
      "execution_count": 66,
      "metadata": {
        "colab": {
          "base_uri": "https://localhost:8080/"
        },
        "id": "ZIfMzE7ls7HD",
        "outputId": "10408c32-4684-4e52-b63c-89a94a6e55ff"
      },
      "outputs": [
        {
          "output_type": "stream",
          "name": "stdout",
          "text": [
            "[[0.+0.j 0.+0.j]\n",
            " [0.+0.j 0.+0.j]\n",
            " [0.+0.j 0.+0.j]]\n",
            "Data Type: complex64\n"
          ]
        }
      ],
      "source": [
        "arr = np.array([[1,2], [3,4],[5,6]], dtype=np.complex64)\n",
        "zeros = np.zeros_like(arr)\n",
        "print(zeros)\n",
        "print('Data Type: ' + str(zeros.dtype))"
      ]
    },
    {
      "cell_type": "markdown",
      "metadata": {
        "id": "WzJ2Bupxs7HE"
      },
      "source": [
        "### Create an array of ones of given shape \n",
        "- ```np.ones()```: create array of all ones in given shape\n",
        "- ```np.ones_like()```: create array of all ones with the same shape and data type as the given input array"
      ]
    },
    {
      "cell_type": "code",
      "execution_count": 67,
      "metadata": {
        "colab": {
          "base_uri": "https://localhost:8080/"
        },
        "id": "HevItPtrs7HE",
        "outputId": "1c644f2f-db50-4081-813c-b7d708dafc87"
      },
      "outputs": [
        {
          "output_type": "stream",
          "name": "stdout",
          "text": [
            "[[0.09454934 0.83918601 0.59331233 0.0172862  0.23285764 0.68353776\n",
            "  0.55337694 0.72704137 0.14881607 0.81719116]]\n",
            "[[1. 1. 1. 1. 1. 1. 1. 1. 1. 1.]]\n",
            "[[1. 1.]\n",
            " [1. 1.]\n",
            " [1. 1.]]\n"
          ]
        }
      ],
      "source": [
        "ones = np.ones((3,2))\n",
        "arr = np.random.rand(1,10)\n",
        "print(arr)\n",
        "print(np.ones_like(arr))\n",
        "print(ones)"
      ]
    },
    {
      "cell_type": "code",
      "execution_count": 68,
      "metadata": {
        "colab": {
          "base_uri": "https://localhost:8080/"
        },
        "id": "PRTWQ8LQs7HF",
        "outputId": "8859bce3-d123-4923-fd01-b74453571592"
      },
      "outputs": [
        {
          "output_type": "stream",
          "name": "stdout",
          "text": [
            "[[1 1 1]\n",
            " [1 1 1]]\n",
            "Data Type: int64\n"
          ]
        }
      ],
      "source": [
        "arr = [[1,2,3], [4,5,6]]\n",
        "ones = np.ones_like(arr)\n",
        "print(ones)\n",
        "print('Data Type: ' + str(ones.dtype))"
      ]
    },
    {
      "cell_type": "markdown",
      "metadata": {
        "id": "ifP5jIOfs7HF"
      },
      "source": [
        "### Create an empty array of given shape \n",
        "- ```np.empty()```: create array of empty values in given shape\n",
        "- ```np.empty_like()```: create array of empty values with the same shape and data type as the given input array\n",
        "\n",
        "Notice that the initial values are not necessarily set to zeroes.\n",
        "\n",
        "They are just some garbage values in random memory addresses."
      ]
    },
    {
      "cell_type": "code",
      "execution_count": 69,
      "metadata": {
        "colab": {
          "base_uri": "https://localhost:8080/"
        },
        "id": "LO_Qwrpas7HG",
        "outputId": "0a28693e-bcfe-46be-c23d-22e062e6a673"
      },
      "outputs": [
        {
          "output_type": "stream",
          "name": "stdout",
          "text": [
            "[[4.9e-324 0.0e+000 0.0e+000 0.0e+000 0.0e+000]\n",
            " [0.0e+000 9.9e-324 0.0e+000 0.0e+000 0.0e+000]\n",
            " [0.0e+000 0.0e+000 1.5e-323 0.0e+000 0.0e+000]\n",
            " [0.0e+000 0.0e+000 0.0e+000 2.0e-323 0.0e+000]\n",
            " [0.0e+000 0.0e+000 0.0e+000 0.0e+000 2.5e-323]]\n"
          ]
        },
        {
          "output_type": "execute_result",
          "data": {
            "text/plain": [
              "[[1, 2, 3], [4, 5, 6]]"
            ]
          },
          "metadata": {},
          "execution_count": 69
        }
      ],
      "source": [
        "empty = np.empty((5,5))\n",
        "# OJO LOS VALORES INICIALES NO SON CERO.\n",
        "\n",
        "print(empty)\n",
        "\n",
        "arr"
      ]
    },
    {
      "cell_type": "code",
      "execution_count": 70,
      "metadata": {
        "colab": {
          "base_uri": "https://localhost:8080/"
        },
        "id": "xdNozApYs7HG",
        "outputId": "2cd8de8f-6353-4fb7-fa0a-7dace50fea41"
      },
      "outputs": [
        {
          "output_type": "stream",
          "name": "stdout",
          "text": [
            "[[1 2 3]\n",
            " [4 5 6]]\n",
            "Data Type: int64\n"
          ]
        }
      ],
      "source": [
        "arr = np.array([[1,2,3], [4,5,6]], dtype=np.int64)\n",
        "empty = np.empty_like(arr)\n",
        "print(empty)\n",
        "print('Data Type: ' + str(empty.dtype))"
      ]
    },
    {
      "cell_type": "markdown",
      "metadata": {
        "id": "iPafMmdTs7HG"
      },
      "source": [
        "### Create an array of constant values of given shape  \n",
        "- ```np.full()```: create array of constant values in given shape\n",
        "- ```np.full_like()```: create array of constant values with the same shape and data type as the given input array"
      ]
    },
    {
      "cell_type": "code",
      "execution_count": 71,
      "metadata": {
        "colab": {
          "base_uri": "https://localhost:8080/"
        },
        "id": "Beda_41ds7HH",
        "outputId": "41c8333e-46cc-42f7-e360-9ad73dcda26a"
      },
      "outputs": [
        {
          "output_type": "stream",
          "name": "stdout",
          "text": [
            "[[5 5 5 5]\n",
            " [5 5 5 5]\n",
            " [5 5 5 5]\n",
            " [5 5 5 5]]\n",
            "[[False False False False]\n",
            " [False False False False]]\n"
          ]
        }
      ],
      "source": [
        "full = np.full((4,4), 5)\n",
        "print(full)\n",
        "\n",
        "false = np.full((2, 4), False)\n",
        "print(false)"
      ]
    },
    {
      "cell_type": "code",
      "execution_count": 86,
      "metadata": {
        "colab": {
          "base_uri": "https://localhost:8080/"
        },
        "id": "ajCfWBI0s7HH",
        "outputId": "f64e25cf-38cc-4dff-93ad-2e6e23ccbb51"
      },
      "outputs": [
        {
          "output_type": "stream",
          "name": "stdout",
          "text": [
            "[[1. 2. 4. 5.]\n",
            " [3. 4. 5. 6.]]\n",
            "[[5. 5. 5. 5.]\n",
            " [5. 5. 5. 5.]]\n",
            "Data Type: float64\n"
          ]
        }
      ],
      "source": [
        "arr = np.array([[1,2, 4, 5], [3,4, 5, 6]], dtype=np.float64)\n",
        "print(arr)\n",
        "full = np.full_like(arr, 5)\n",
        "print(full)\n",
        "print('Data Type: ' + str(full.dtype))"
      ]
    },
    {
      "cell_type": "code",
      "source": [
        "# THIS GIVES OFF AN ERROR. \n",
        "arr = np.array([1, 2], [1, 2, 3, 4])"
      ],
      "metadata": {
        "colab": {
          "base_uri": "https://localhost:8080/",
          "height": 183
        },
        "id": "Z2dppjev2XkE",
        "outputId": "00a8efa6-4ff3-44d2-fa50-5b320d86cc61"
      },
      "execution_count": 89,
      "outputs": [
        {
          "output_type": "error",
          "ename": "TypeError",
          "evalue": "ignored",
          "traceback": [
            "\u001b[0;31m---------------------------------------------------------------------------\u001b[0m",
            "\u001b[0;31mTypeError\u001b[0m                                 Traceback (most recent call last)",
            "\u001b[0;32m<ipython-input-89-5c605633a843>\u001b[0m in \u001b[0;36m<module>\u001b[0;34m\u001b[0m\n\u001b[1;32m      1\u001b[0m \u001b[0;31m# THIS GIVES OFF AN ERROR.\u001b[0m\u001b[0;34m\u001b[0m\u001b[0;34m\u001b[0m\u001b[0;34m\u001b[0m\u001b[0m\n\u001b[0;32m----> 2\u001b[0;31m \u001b[0marr\u001b[0m \u001b[0;34m=\u001b[0m \u001b[0mnp\u001b[0m\u001b[0;34m.\u001b[0m\u001b[0marray\u001b[0m\u001b[0;34m(\u001b[0m\u001b[0;34m[\u001b[0m\u001b[0;36m1\u001b[0m\u001b[0;34m,\u001b[0m \u001b[0;36m2\u001b[0m\u001b[0;34m]\u001b[0m\u001b[0;34m,\u001b[0m \u001b[0;34m[\u001b[0m\u001b[0;36m1\u001b[0m\u001b[0;34m,\u001b[0m \u001b[0;36m2\u001b[0m\u001b[0;34m,\u001b[0m \u001b[0;36m3\u001b[0m\u001b[0;34m,\u001b[0m \u001b[0;36m4\u001b[0m\u001b[0;34m]\u001b[0m\u001b[0;34m)\u001b[0m\u001b[0;34m\u001b[0m\u001b[0;34m\u001b[0m\u001b[0m\n\u001b[0m",
            "\u001b[0;31mTypeError\u001b[0m: Field elements must be 2- or 3-tuples, got '1'"
          ]
        }
      ]
    },
    {
      "cell_type": "code",
      "source": [
        "# BUT THIS IS OK\n",
        "arr = [[1, 2], [1, 2, 3, 4]]\n",
        "print(arr)"
      ],
      "metadata": {
        "colab": {
          "base_uri": "https://localhost:8080/"
        },
        "id": "5esiSgO42t2N",
        "outputId": "bc9a7509-7f8d-4327-f92a-4e2bf3375599"
      },
      "execution_count": 90,
      "outputs": [
        {
          "output_type": "stream",
          "name": "stdout",
          "text": [
            "[[1, 2], [1, 2, 3, 4]]\n"
          ]
        }
      ]
    },
    {
      "cell_type": "markdown",
      "metadata": {
        "id": "nKn4nSJus7HH"
      },
      "source": [
        "### Create an array in a repetitive manner\n",
        "- ```np.repeat(iterable, reps, axis=None)```: repeat each **element** by n times\n",
        "    - ```iterable```: input array\n",
        "    - ```reps```: number of repetitions\n",
        "    - ```axis```: which axis to repeat along, default is ```None``` which will flatten the input array and then repeat\n",
        "- ```np.tile()```: repeat **the whole array** by n times\n",
        "    - ```iterable```: input array\n",
        "    - ```reps```: number of repetitions, it can be a tuple to represent repetitions along x-axis and y-axis"
      ]
    },
    {
      "cell_type": "code",
      "execution_count": 122,
      "metadata": {
        "colab": {
          "base_uri": "https://localhost:8080/"
        },
        "id": "9ZkGAkyFs7HI",
        "outputId": "63172cf3-5854-4e4f-f35f-bb668da88afa"
      },
      "outputs": [
        {
          "output_type": "stream",
          "name": "stdout",
          "text": [
            "[[0, 1, 2], [3, 4, 5]]\n",
            "(2, 3)\n",
            "-----\n",
            "[[0 1 2]\n",
            " [0 1 2]\n",
            " [0 1 2]\n",
            " [3 4 5]\n",
            " [3 4 5]\n",
            " [3 4 5]]\n",
            "(6, 3)\n",
            "-----\n",
            "[[0 0 0 1 1 1 2 2 2]\n",
            " [3 3 3 4 4 4 5 5 5]]\n",
            "(2, 9)\n"
          ]
        }
      ],
      "source": [
        "# No axis specified, then flatten the input array first and repeat\n",
        "arr = [[0, 1, 2], [3, 4, 5]]\n",
        "print(arr)\n",
        "\n",
        "# OJO para obtener el shape de un array no es array.shape() ni array.shape SINO np.shape(arr)\n",
        "print(np.shape(arr))\n",
        "\n",
        "print(\"-----\")\n",
        "arr1 = np.repeat(arr, 3, axis=0) # axis=0 repeats the columns. \n",
        "print(arr1)\n",
        "print(np.shape(arr1))\n",
        "\n",
        "# Notice that it repeated the columns by three\n",
        "\n",
        "print(\"-----\")\n",
        "arr2 = np.repeat(arr, 3, axis=1) # axis=1 repeats the rows. \n",
        "print(arr2)\n",
        "print(np.shape(arr2))"
      ]
    },
    {
      "cell_type": "code",
      "execution_count": 117,
      "metadata": {
        "colab": {
          "base_uri": "https://localhost:8080/"
        },
        "id": "OijlGyKqs7HI",
        "outputId": "5485b0ff-7406-4539-a2ca-3f93cc1c4aa0"
      },
      "outputs": [
        {
          "output_type": "stream",
          "name": "stdout",
          "text": [
            "(2, 3)\n",
            "[[0, 1, 2], [3, 4, 5]]\n",
            "(6, 3)\n",
            "[[0 1 2]\n",
            " [0 1 2]\n",
            " [0 1 2]\n",
            " [3 4 5]\n",
            " [3 4 5]\n",
            " [3 4 5]]\n"
          ]
        }
      ],
      "source": [
        "# An example of repeating along x-axis\n",
        "arr = [[0, 1, 2], [3, 4, 5]]\n",
        "print(np.shape(arr))\n",
        "print(arr)\n",
        "arr1 = np.repeat(arr, 3, axis=0) \n",
        "print(np.shape(arr1))\n",
        "print(arr1)\n",
        "\n"
      ]
    },
    {
      "cell_type": "code",
      "execution_count": 120,
      "metadata": {
        "colab": {
          "base_uri": "https://localhost:8080/"
        },
        "id": "ZSxh2qUus7HI",
        "outputId": "020f3073-9536-471b-f832-a537dc450203"
      },
      "outputs": [
        {
          "output_type": "stream",
          "name": "stdout",
          "text": [
            "(2, 3)\n",
            "[[0, 1, 2], [3, 4, 5]]\n",
            "(2, 9)\n",
            "[[0 0 0 1 1 1 2 2 2]\n",
            " [3 3 3 4 4 4 5 5 5]]\n"
          ]
        }
      ],
      "source": [
        "# An example of repeating along y-axis\n",
        "arr = [[0, 1, 2], [3, 4, 5]]\n",
        "print(np.shape(arr))\n",
        "print(arr)\n",
        "arr1 = np.repeat(arr, 3, axis=1)\n",
        "print(np.shape(arr1))\n",
        "print(arr1)\n"
      ]
    },
    {
      "cell_type": "code",
      "execution_count": 121,
      "metadata": {
        "colab": {
          "base_uri": "https://localhost:8080/"
        },
        "id": "PrFAeKSks7HI",
        "outputId": "5a312fce-aa02-4e09-f770-34cc581a943e"
      },
      "outputs": [
        {
          "output_type": "stream",
          "name": "stdout",
          "text": [
            "[[0 1 2 0 1 2 0 1 2]\n",
            " [3 4 5 3 4 5 3 4 5]]\n"
          ]
        }
      ],
      "source": [
        "# Repeat the whole array by a specified number of times\n",
        "arr = [[0, 1, 2], [3, 4, 5]]\n",
        "print(np.tile(arr, 3))"
      ]
    },
    {
      "cell_type": "code",
      "execution_count": 123,
      "metadata": {
        "colab": {
          "base_uri": "https://localhost:8080/"
        },
        "id": "QIoTgO2vs7HJ",
        "outputId": "00479810-2b73-4b27-fabd-9f9068472a19"
      },
      "outputs": [
        {
          "output_type": "stream",
          "name": "stdout",
          "text": [
            "[[0 1 2 0 1 2]\n",
            " [3 4 5 3 4 5]\n",
            " [0 1 2 0 1 2]\n",
            " [3 4 5 3 4 5]]\n"
          ]
        }
      ],
      "source": [
        "# Repeat along specified axes\n",
        "# ESTO NO LO ENTIENDO\n",
        "print(np.tile(arr, (2,2)))"
      ]
    },
    {
      "cell_type": "markdown",
      "metadata": {
        "id": "3OGYUcxqs7HJ"
      },
      "source": [
        "### Create an identity matrix of given size\n",
        "- ```np.eye(size, k=0)```: create an identity matrix of given size\n",
        "    - ```size```: the size of the identity matrix\n",
        "    - ```k```: the diagonal offset\n",
        "- ```np.identity()```: same as ```np.eye()``` but does not carry parameters"
      ]
    },
    {
      "cell_type": "code",
      "execution_count": 133,
      "metadata": {
        "colab": {
          "base_uri": "https://localhost:8080/"
        },
        "id": "QKSWzqios7HJ",
        "outputId": "b38296b1-0926-45ec-ae42-49de5440affc"
      },
      "outputs": [
        {
          "output_type": "stream",
          "name": "stdout",
          "text": [
            "[[1. 0. 0. 0. 0.]\n",
            " [0. 1. 0. 0. 0.]\n",
            " [0. 0. 1. 0. 0.]\n",
            " [0. 0. 0. 1. 0.]\n",
            " [0. 0. 0. 0. 1.]]\n",
            "[[0. 0. 0. 0. 1.]\n",
            " [0. 0. 0. 1. 0.]\n",
            " [0. 0. 1. 0. 0.]\n",
            " [0. 1. 0. 0. 0.]\n",
            " [1. 0. 0. 0. 0.]]\n"
          ]
        }
      ],
      "source": [
        "identity_matrix = np.eye(5)\n",
        "print(identity_matrix)\n",
        "\n",
        "print(np.fliplr(identity_matrix))"
      ]
    },
    {
      "cell_type": "code",
      "execution_count": 79,
      "metadata": {
        "colab": {
          "base_uri": "https://localhost:8080/"
        },
        "id": "UZMr_B1Fs7HJ",
        "outputId": "747b5486-278d-45cd-b243-a3be64859763"
      },
      "outputs": [
        {
          "output_type": "stream",
          "name": "stdout",
          "text": [
            "[[0. 0. 0. 0. 0.]\n",
            " [1. 0. 0. 0. 0.]\n",
            " [0. 1. 0. 0. 0.]\n",
            " [0. 0. 1. 0. 0.]\n",
            " [0. 0. 0. 1. 0.]]\n"
          ]
        }
      ],
      "source": [
        "# An example of diagonal offset\n",
        "identity_matrix = np.eye(5, k=-1)\n",
        "print(identity_matrix)"
      ]
    },
    {
      "cell_type": "code",
      "execution_count": 80,
      "metadata": {
        "colab": {
          "base_uri": "https://localhost:8080/"
        },
        "id": "3WfbJEQWs7HK",
        "outputId": "83c8dbb6-a3ee-46b4-b96e-5dfb935b7881"
      },
      "outputs": [
        {
          "output_type": "stream",
          "name": "stdout",
          "text": [
            "[[1. 0. 0. 0. 0.]\n",
            " [0. 1. 0. 0. 0.]\n",
            " [0. 0. 1. 0. 0.]\n",
            " [0. 0. 0. 1. 0.]\n",
            " [0. 0. 0. 0. 1.]]\n"
          ]
        }
      ],
      "source": [
        "identity_matrix = np.identity(5)\n",
        "print(identity_matrix)"
      ]
    },
    {
      "cell_type": "markdown",
      "metadata": {
        "id": "FbU6Q67vs7HK"
      },
      "source": [
        "### Create an array with given values on the diagonal"
      ]
    },
    {
      "cell_type": "code",
      "execution_count": 81,
      "metadata": {
        "colab": {
          "base_uri": "https://localhost:8080/"
        },
        "id": "In4JKTLts7HK",
        "outputId": "1c98b969-ab2e-448b-81d6-7605976ecdb5"
      },
      "outputs": [
        {
          "output_type": "stream",
          "name": "stdout",
          "text": [
            "[[0.61823894 0.54481642 0.62082379 0.34074991 0.27019352]\n",
            " [0.63970167 0.25670709 0.55102103 0.76141891 0.35315383]\n",
            " [0.93126758 0.32351419 0.78469947 0.44002793 0.06169435]\n",
            " [0.69640097 0.44743113 0.88386489 0.06783044 0.53047787]\n",
            " [0.10520407 0.82502078 0.82830377 0.07871238 0.21709124]]\n",
            "Values on the diagonal: [0.61823894 0.25670709 0.78469947 0.06783044 0.21709124]\n"
          ]
        }
      ],
      "source": [
        "arr = np.random.rand(5,5)\n",
        "print(arr)\n",
        "# Extract values on the diagonal\n",
        "print('Values on the diagonal: ' + str(np.diag(arr)))"
      ]
    },
    {
      "cell_type": "code",
      "execution_count": 82,
      "metadata": {
        "colab": {
          "base_uri": "https://localhost:8080/"
        },
        "id": "fSQyq9V0s7HK",
        "outputId": "9bcdf6dd-a514-4bca-f0b5-720c5253c48f"
      },
      "outputs": [
        {
          "output_type": "stream",
          "name": "stdout",
          "text": [
            "[[0.50864376 0.32798154 0.69221798]\n",
            " [0.02957214 0.48825743 0.78240888]\n",
            " [0.93522149 0.77683268 0.99694146]\n",
            " [0.41868536 0.14408345 0.26416024]\n",
            " [0.27728212 0.4824592  0.23909172]\n",
            " [0.69498039 0.55626721 0.55433522]\n",
            " [0.71096665 0.34004434 0.09536026]\n",
            " [0.91924067 0.63068432 0.26325023]\n",
            " [0.10455848 0.93519311 0.39725147]\n",
            " [0.58810482 0.71517032 0.20898966]]\n",
            "Values on the diagonal: [0.50864376 0.48825743 0.99694146]\n"
          ]
        }
      ],
      "source": [
        "# Not necessarily to be a square matrix\n",
        "arr = np.random.rand(10,3)\n",
        "print(arr)\n",
        "# Extract values on the diagonal\n",
        "print('Values on the diagonal: ' + str(np.diag(arr)))"
      ]
    },
    {
      "cell_type": "code",
      "execution_count": 83,
      "metadata": {
        "colab": {
          "base_uri": "https://localhost:8080/"
        },
        "id": "c4q4Ncgjs7HL",
        "outputId": "f1228995-257f-4404-96ef-9bbf8b70116c"
      },
      "outputs": [
        {
          "output_type": "stream",
          "name": "stdout",
          "text": [
            "[[1 0 0 0 0]\n",
            " [0 2 0 0 0]\n",
            " [0 0 3 0 0]\n",
            " [0 0 0 4 0]\n",
            " [0 0 0 0 5]]\n"
          ]
        }
      ],
      "source": [
        "# Create a matrix given values on the diagonal\n",
        "# All non-diagonal values set to zeros\n",
        "arr = np.diag([1,2,3,4,5])\n",
        "print(arr)"
      ]
    },
    {
      "cell_type": "markdown",
      "source": [
        "Sorting"
      ],
      "metadata": {
        "id": "ZyeDAJTT_Qcj"
      }
    },
    {
      "cell_type": "code",
      "source": [
        "arr = np.array([[4, 6, 8], [1, 9, 2]])\n",
        "print(arr)\n",
        "print(np.shape(arr))\n",
        "\n",
        "# Sorting by columns\n",
        "arr1 = np.sort(arr, axis=0)\n",
        "print(arr1)\n",
        "\n",
        "#Sorting by rows\n",
        "arr2 = np.sort(arr, axis=1)\n",
        "print(arr2)"
      ],
      "metadata": {
        "colab": {
          "base_uri": "https://localhost:8080/"
        },
        "id": "5lIoSBPy_SE-",
        "outputId": "0b0b8af5-f383-4f50-aeff-9b35a0d64368"
      },
      "execution_count": 127,
      "outputs": [
        {
          "output_type": "stream",
          "name": "stdout",
          "text": [
            "[[4 6 8]\n",
            " [1 9 2]]\n",
            "(2, 3)\n",
            "[[1 6 2]\n",
            " [4 9 8]]\n",
            "[[4 6 8]\n",
            " [1 2 9]]\n"
          ]
        }
      ]
    }
  ],
  "metadata": {
    "kernelspec": {
      "display_name": "Python 3",
      "language": "python",
      "name": "python3"
    },
    "language_info": {
      "codemirror_mode": {
        "name": "ipython",
        "version": 3
      },
      "file_extension": ".py",
      "mimetype": "text/x-python",
      "name": "python",
      "nbconvert_exporter": "python",
      "pygments_lexer": "ipython3",
      "version": "3.6.6"
    },
    "colab": {
      "provenance": [],
      "include_colab_link": true
    }
  },
  "nbformat": 4,
  "nbformat_minor": 0
}