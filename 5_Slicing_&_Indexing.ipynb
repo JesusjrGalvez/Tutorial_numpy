{
  "cells": [
    {
      "cell_type": "markdown",
      "metadata": {
        "id": "view-in-github",
        "colab_type": "text"
      },
      "source": [
        "<a href=\"https://colab.research.google.com/github/JesusjrGalvez/Tutorial_numpy/blob/main/5_Slicing_%26_Indexing.ipynb\" target=\"_parent\"><img src=\"https://colab.research.google.com/assets/colab-badge.svg\" alt=\"Open In Colab\"/></a>"
      ]
    },
    {
      "cell_type": "code",
      "execution_count": 1,
      "metadata": {
        "id": "iA0jd_iP5TX_"
      },
      "outputs": [],
      "source": [
        "import numpy as np"
      ]
    },
    {
      "cell_type": "code",
      "execution_count": 69,
      "metadata": {
        "colab": {
          "base_uri": "https://localhost:8080/"
        },
        "id": "JTqXW6Fb5TYD",
        "outputId": "03050e0d-9151-4169-b392-c20a28189195"
      },
      "outputs": [
        {
          "output_type": "stream",
          "name": "stdout",
          "text": [
            "[[  1   2   3   4   5   6   7   8   9  10]\n",
            " [ 11  12  13  14  15  16  17  18  19  20]\n",
            " [ 21  22  23  24  25  26  27  28  29  30]\n",
            " [ 31  32  33  34  35  36  37  38  39  40]\n",
            " [ 41  42  43  44  45  46  47  48  49  50]\n",
            " [ 51  52  53  54  55  56  57  58  59  60]\n",
            " [ 61  62  63  64  65  66  67  68  69  70]\n",
            " [ 71  72  73  74  75  76  77  78  79  80]\n",
            " [ 81  82  83  84  85  86  87  88  89  90]\n",
            " [ 91  92  93  94  95  96  97  98  99 100]]\n"
          ]
        }
      ],
      "source": [
        "arr = np.arange(1, 21) # don't confuse range(10) with np.arange(10)\n",
        "arr = np.array(np.arange(1, 101)).reshape((10,10))\n",
        "print(arr)"
      ]
    },
    {
      "cell_type": "code",
      "source": [
        "print(arr)\n",
        "print(arr[8:]) # Slice two last rows of an array\n",
        "print(arr[5: 7]) # Slice rows 5 to 7 (not including 7)"
      ],
      "metadata": {
        "colab": {
          "base_uri": "https://localhost:8080/"
        },
        "id": "PoPggoKBJ9R-",
        "outputId": "70f3f1cd-6256-4e35-bb9c-ee44eca4bf20"
      },
      "execution_count": 73,
      "outputs": [
        {
          "output_type": "stream",
          "name": "stdout",
          "text": [
            "[[  1   2   3   4   5   6   7   8   9  10]\n",
            " [ 11  12  13  14  15  16  17  18  19  20]\n",
            " [ 21  22  23  24  25  26  27  28  29  30]\n",
            " [ 31  32  33  34  35  36  37  38  39  40]\n",
            " [ 41  42  43  44  45  46  47  48  49  50]\n",
            " [ 51  52  53  54  55  56  57  58  59  60]\n",
            " [ 61  62  63  64  65  66  67  68  69  70]\n",
            " [ 71  72  73  74  75  76  77  78  79  80]\n",
            " [ 81  82  83  84  85  86  87  88  89  90]\n",
            " [ 91  92  93  94  95  96  97  98  99 100]]\n",
            "[[ 81  82  83  84  85  86  87  88  89  90]\n",
            " [ 91  92  93  94  95  96  97  98  99 100]]\n",
            "[[51 52 53 54 55 56 57 58 59 60]\n",
            " [61 62 63 64 65 66 67 68 69 70]]\n"
          ]
        }
      ]
    },
    {
      "cell_type": "markdown",
      "source": [
        "### Select a row or column"
      ],
      "metadata": {
        "id": "GP6-qYDS5hS_"
      }
    },
    {
      "cell_type": "code",
      "source": [
        "print(arr[2]) # Select a row\n",
        "print(arr[:, 0]) # Select a column. OJO indexes begin at ZERO\n",
        "print(arr[4, 4]) # Selects an element. "
      ],
      "metadata": {
        "colab": {
          "base_uri": "https://localhost:8080/"
        },
        "id": "zF74NdhS5j4s",
        "outputId": "1397efa2-0605-4d2a-933e-094d41098370"
      },
      "execution_count": 74,
      "outputs": [
        {
          "output_type": "stream",
          "name": "stdout",
          "text": [
            "[21 22 23 24 25 26 27 28 29 30]\n",
            "[ 1 11 21 31 41 51 61 71 81 91]\n",
            "45\n"
          ]
        }
      ]
    },
    {
      "cell_type": "markdown",
      "metadata": {
        "id": "UgkGSTKH5TYE"
      },
      "source": [
        "### select an element by row and column indices"
      ]
    },
    {
      "cell_type": "code",
      "execution_count": 75,
      "metadata": {
        "colab": {
          "base_uri": "https://localhost:8080/"
        },
        "id": "elGjlXTD5TYF",
        "outputId": "b675be4c-a811-4de3-8acd-519b8e36962d"
      },
      "outputs": [
        {
          "output_type": "stream",
          "name": "stdout",
          "text": [
            "34\n",
            "34\n"
          ]
        }
      ],
      "source": [
        "print(arr[3][3]) # REMEMBER INDEXES START AT ZERO\n",
        "# or more concisely\n",
        "print(arr[3, 3])"
      ]
    },
    {
      "cell_type": "markdown",
      "metadata": {
        "id": "eK4oFqq_5TYH"
      },
      "source": [
        "### indexing with slicing"
      ]
    },
    {
      "cell_type": "code",
      "source": [
        "# slicing one dimension array\n",
        "# https://youtu.be/PbKOrSottRQ?t=393\n",
        "arr_1d = np.arange(1, 11)\n",
        "print(arr_1d)\n",
        "print(arr_1d[2:4])\n",
        "print(arr_1d[6:]) # slice to the end of the array\n",
        "print(arr_1d[:4]) # slice from the beginning of the array"
      ],
      "metadata": {
        "colab": {
          "base_uri": "https://localhost:8080/"
        },
        "id": "QYl4c-J58YsF",
        "outputId": "ef46f901-9503-4136-860e-ef8943a2f1e2"
      },
      "execution_count": 76,
      "outputs": [
        {
          "output_type": "stream",
          "name": "stdout",
          "text": [
            "[ 1  2  3  4  5  6  7  8  9 10]\n",
            "[3 4]\n",
            "[ 7  8  9 10]\n",
            "[1 2 3 4]\n"
          ]
        }
      ]
    },
    {
      "cell_type": "code",
      "execution_count": 48,
      "metadata": {
        "colab": {
          "base_uri": "https://localhost:8080/"
        },
        "id": "DSWgwg6J5TYI",
        "outputId": "c2c0feb4-6dab-463e-894a-59459504de56"
      },
      "outputs": [
        {
          "output_type": "stream",
          "name": "stdout",
          "text": [
            "[[  1   2   3   4   5   6   7   8   9  10]\n",
            " [ 11  12  13  14  15  16  17  18  19  20]\n",
            " [ 21  22  23  24  25  26  27  28  29  30]\n",
            " [ 31  32  33  34  35  36  37  38  39  40]\n",
            " [ 41  42  43  44  45  46  47  48  49  50]\n",
            " [ 51  52  53  54  55  56  57  58  59  60]\n",
            " [ 61  62  63  64  65  66  67  68  69  70]\n",
            " [ 71  72  73  74  75  76  77  78  79  80]\n",
            " [ 81  82  83  84  85  86  87  88  89  90]\n",
            " [ 91  92  93  94  95  96  97  98  99 100]]\n",
            "[[5 6]]\n"
          ]
        }
      ],
      "source": [
        "print(arr)\n",
        "print(arr[0:1, 4:6]) # From row 0 to 1 (not including 1) to column 4 to 6 (but not including 6)\n",
        "#print(arr[(0, 1), (4,4)]) #"
      ]
    },
    {
      "cell_type": "code",
      "execution_count": 50,
      "metadata": {
        "colab": {
          "base_uri": "https://localhost:8080/"
        },
        "id": "bqt3L1Fy5TYI",
        "outputId": "0608af17-2ff5-4d8b-b3da-05bf61ac77c7"
      },
      "outputs": [
        {
          "output_type": "stream",
          "name": "stdout",
          "text": [
            "[[[[ 0  1]\n",
            "   [ 2  3]]\n",
            "\n",
            "  [[ 4  5]\n",
            "   [ 6  7]]]\n",
            "\n",
            "\n",
            " [[[ 8  9]\n",
            "   [10 11]]\n",
            "\n",
            "  [[12 13]\n",
            "   [14 15]]]]\n",
            "[[[0 1]\n",
            "  [2 3]]\n",
            "\n",
            " [[4 5]\n",
            "  [6 7]]]\n"
          ]
        }
      ],
      "source": [
        "# ellipsis slicing: auto-complete the dimensions\n",
        "arr = np.array(range(16)).reshape(2,2,2,2)\n",
        "print(arr)\n",
        "# equivalent to arr[0,:,:,:]\n",
        "print(arr[0, ...])    "
      ]
    },
    {
      "cell_type": "markdown",
      "metadata": {
        "id": "_bICYdvH5TYJ"
      },
      "source": [
        "### assign a scalar to a slice by broadcasting"
      ]
    },
    {
      "cell_type": "code",
      "execution_count": null,
      "metadata": {
        "id": "EbuhqaL05TYK",
        "outputId": "3ed221c8-6439-4a47-e553-7fa01df96b53"
      },
      "outputs": [
        {
          "name": "stdout",
          "output_type": "stream",
          "text": [
            "[[[[  0   1]\n",
            "   [  2   3]]\n",
            "\n",
            "  [[  4   5]\n",
            "   [  6   7]]]\n",
            "\n",
            "\n",
            " [[[100 100]\n",
            "   [100 100]]\n",
            "\n",
            "  [[100 100]\n",
            "   [100 100]]]]\n"
          ]
        }
      ],
      "source": [
        "arr[1:3,:] = 100    # or simply arr[1:3]\n",
        "arr[:,8:] = 100\n",
        "print(arr)"
      ]
    },
    {
      "cell_type": "markdown",
      "metadata": {
        "id": "hfXvUU2U5TYL"
      },
      "source": [
        "### boolean indexing"
      ]
    },
    {
      "cell_type": "code",
      "execution_count": 53,
      "metadata": {
        "colab": {
          "base_uri": "https://localhost:8080/"
        },
        "id": "n_fPZH6U5TYL",
        "outputId": "039f97e8-9070-436c-9b5c-c233e48d7743"
      },
      "outputs": [
        {
          "output_type": "stream",
          "name": "stdout",
          "text": [
            "[[ 0  1  2  3  4]\n",
            " [ 5  6  7  8  9]\n",
            " [10 11 12 13 14]\n",
            " [15 16 17 18 19]\n",
            " [20 21 22 23 24]]\n",
            "[ True  True False  True False]\n",
            "[[ 0  1  2  3  4]\n",
            " [ 5  6  7  8  9]\n",
            " [15 16 17 18 19]]\n"
          ]
        }
      ],
      "source": [
        "arr1 = np.arange(25).reshape((5,5))\n",
        "print(arr1)\n",
        "bools = np.array([True, True, False, True, False])\n",
        "print(bools)\n",
        "print(arr1[bools])"
      ]
    },
    {
      "cell_type": "code",
      "execution_count": 54,
      "metadata": {
        "colab": {
          "base_uri": "https://localhost:8080/"
        },
        "id": "o-CiMEKO5TYM",
        "outputId": "1125153f-cc61-49f2-ea62-d60c21ee6267"
      },
      "outputs": [
        {
          "output_type": "stream",
          "name": "stdout",
          "text": [
            "[[10 11 12 13 14]\n",
            " [20 21 22 23 24]]\n"
          ]
        }
      ],
      "source": [
        "# negate the condition\n",
        "print(arr1[~bools])    "
      ]
    },
    {
      "cell_type": "code",
      "execution_count": 55,
      "metadata": {
        "colab": {
          "base_uri": "https://localhost:8080/"
        },
        "id": "CqZKFSWR5TYM",
        "outputId": "efb957c9-c941-417a-bdd2-becae27cb4d9"
      },
      "outputs": [
        {
          "output_type": "stream",
          "name": "stdout",
          "text": [
            "[[ 0  1  2  3  4]\n",
            " [20 21 22 23 24]]\n"
          ]
        }
      ],
      "source": [
        "arr2 = np.array([1,2,3,4,5])\n",
        "# multiple conditions\n",
        "print(arr1[(arr2<2) | (arr2>4)])    "
      ]
    },
    {
      "cell_type": "markdown",
      "metadata": {
        "id": "bws0tlZU5TYN"
      },
      "source": [
        "### fancy indexing"
      ]
    },
    {
      "cell_type": "code",
      "execution_count": 57,
      "metadata": {
        "colab": {
          "base_uri": "https://localhost:8080/"
        },
        "id": "n41JAAJA5TYN",
        "outputId": "08e128d0-41d5-4e46-ed89-b169eb751aef"
      },
      "outputs": [
        {
          "output_type": "stream",
          "name": "stdout",
          "text": [
            "[[0.22334476 0.08106413 0.4764313  0.43190244 0.17826398 0.56808525\n",
            "  0.03389536 0.72433118 0.8552426  0.43139783]\n",
            " [0.60188921 0.1818351  0.55626192 0.11107943 0.69174665 0.69520121\n",
            "  0.99378262 0.07101134 0.25047677 0.31582924]\n",
            " [0.50703774 0.21759091 0.01718883 0.23735894 0.1860161  0.70058645\n",
            "  0.91070921 0.92397311 0.72578385 0.84756932]\n",
            " [0.7514296  0.3968802  0.6014458  0.04594561 0.32885656 0.33345684\n",
            "  0.75421807 0.25027265 0.76771537 0.35579616]\n",
            " [0.97391768 0.33551967 0.67393235 0.85590843 0.84661185 0.88038212\n",
            "  0.50091355 0.73510263 0.7817651  0.50498096]\n",
            " [0.39449349 0.50479773 0.82146414 0.77014202 0.67911143 0.54208374\n",
            "  0.17599085 0.34555502 0.37585072 0.87486571]\n",
            " [0.41427555 0.02355276 0.73809957 0.1214986  0.86876323 0.18791134\n",
            "  0.97971902 0.59883777 0.77634958 0.59377513]\n",
            " [0.88792598 0.57737104 0.68174277 0.763271   0.63993981 0.73097212\n",
            "  0.62017718 0.02071701 0.81834994 0.12546246]\n",
            " [0.16258452 0.45967945 0.08491813 0.24949263 0.26847062 0.69101787\n",
            "  0.86104852 0.02860937 0.78411851 0.88146309]\n",
            " [0.83877613 0.67530277 0.24586924 0.8651713  0.28628967 0.79349639\n",
            "  0.58530173 0.6177974  0.38448056 0.34592128]]\n"
          ]
        }
      ],
      "source": [
        "arr = np.random.rand(10,10)\n",
        "print(arr)"
      ]
    },
    {
      "cell_type": "code",
      "execution_count": null,
      "metadata": {
        "id": "FUG1qq9v5TYO",
        "outputId": "ab47eb7e-97cd-4501-8263-07e8ef1d4a16"
      },
      "outputs": [
        {
          "name": "stdout",
          "output_type": "stream",
          "text": [
            "[0.29404208 0.06137223 0.59811053]\n"
          ]
        }
      ],
      "source": [
        "# select arr[3,3], arr[1,2], arr[2,1]\n",
        "print(arr[[3,1,2], [3,2,1]])       "
      ]
    },
    {
      "cell_type": "code",
      "execution_count": null,
      "metadata": {
        "id": "jopNaKlF5TYO",
        "outputId": "dda66e62-4456-4764-991d-f092d945a7cb"
      },
      "outputs": [
        {
          "name": "stdout",
          "output_type": "stream",
          "text": [
            "[[0.09566854 0.2190723  0.6754328 ]\n",
            " [0.28997889 0.13675444 0.07718654]\n",
            " [0.15862308 0.45510309 0.94789792]]\n"
          ]
        }
      ],
      "source": [
        "# select rows 3,1,2 and columns 6,4,8 \n",
        "print(arr[[3,1,2]][:, [6,4,8]])    "
      ]
    },
    {
      "cell_type": "markdown",
      "metadata": {
        "id": "7tdhSVNM5TYP"
      },
      "source": [
        "### dimension inference"
      ]
    },
    {
      "cell_type": "code",
      "execution_count": 59,
      "metadata": {
        "colab": {
          "base_uri": "https://localhost:8080/"
        },
        "id": "DVDW9Q6q5TYP",
        "outputId": "b47f036e-032d-4354-ed69-5c970f521e86"
      },
      "outputs": [
        {
          "output_type": "stream",
          "name": "stdout",
          "text": [
            "[[ 0  1  2  3]\n",
            " [ 4  5  6  7]\n",
            " [ 8  9 10 11]\n",
            " [12 13 14 15]]\n",
            "(4, 4)\n"
          ]
        }
      ],
      "source": [
        "# dimension inference using any negative number (usually -1)\n",
        "arr = np.array(range(16)).reshape((4,-1))\n",
        "print(arr)\n",
        "print(arr.shape)"
      ]
    },
    {
      "cell_type": "markdown",
      "metadata": {
        "id": "_QHAc2C65TYP"
      },
      "source": [
        "### find elements/indices by conditions"
      ]
    },
    {
      "cell_type": "code",
      "execution_count": null,
      "metadata": {
        "id": "YjTZamRY5TYQ"
      },
      "outputs": [],
      "source": [
        "arr = np.arange(16).reshape(4,4)"
      ]
    },
    {
      "cell_type": "code",
      "execution_count": null,
      "metadata": {
        "id": "UHaKgVsc5TYQ",
        "outputId": "6e5a2e09-acc9-43be-db63-8c3deb36b51f"
      },
      "outputs": [
        {
          "name": "stdout",
          "output_type": "stream",
          "text": [
            "[ 6  7  8  9 10 11 12 13 14 15]\n"
          ]
        }
      ],
      "source": [
        "# find the elements greater than 5 and return a flattened array\n",
        "print(arr[arr>5])    # or arr[np.where(arr>5)]"
      ]
    },
    {
      "cell_type": "code",
      "execution_count": null,
      "metadata": {
        "id": "YOGVZpt-5TYQ",
        "outputId": "2d11e511-2b79-4971-f62f-dc93de0cd8e9"
      },
      "outputs": [
        {
          "name": "stdout",
          "output_type": "stream",
          "text": [
            "[[10 10 10 10]\n",
            " [10 10 -1 -1]\n",
            " [-1 -1 -1 -1]\n",
            " [-1 -1 -1 -1]]\n"
          ]
        }
      ],
      "source": [
        "# return values based on conditions \n",
        "# np.where(condition, true_return, false_return)\n",
        "print(np.where(arr>5, -1, 10))"
      ]
    },
    {
      "cell_type": "code",
      "execution_count": null,
      "metadata": {
        "id": "2_YiSfHH5TYR",
        "outputId": "a87eedd9-4cf4-47f8-b60f-c3d07e8140c5"
      },
      "outputs": [
        {
          "name": "stdout",
          "output_type": "stream",
          "text": [
            "[[1 2]\n",
            " [1 3]\n",
            " [2 0]\n",
            " [2 1]\n",
            " [2 2]\n",
            " [2 3]\n",
            " [3 0]\n",
            " [3 1]\n",
            " [3 2]\n",
            " [3 3]]\n"
          ]
        }
      ],
      "source": [
        "# find the indices of the elements on conditions\n",
        "print(np.argwhere(arr>5))"
      ]
    }
  ],
  "metadata": {
    "kernelspec": {
      "display_name": "Python 3",
      "language": "python",
      "name": "python3"
    },
    "language_info": {
      "codemirror_mode": {
        "name": "ipython",
        "version": 3
      },
      "file_extension": ".py",
      "mimetype": "text/x-python",
      "name": "python",
      "nbconvert_exporter": "python",
      "pygments_lexer": "ipython3",
      "version": "3.6.6"
    },
    "colab": {
      "provenance": [],
      "include_colab_link": true
    }
  },
  "nbformat": 4,
  "nbformat_minor": 0
}