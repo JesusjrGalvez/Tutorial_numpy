{
  "cells": [
    {
      "cell_type": "markdown",
      "metadata": {
        "id": "view-in-github",
        "colab_type": "text"
      },
      "source": [
        "<a href=\"https://colab.research.google.com/github/JesusjrGalvez/Tutorial_numpy/blob/main/5_Slicing_%26_Indexing.ipynb\" target=\"_parent\"><img src=\"https://colab.research.google.com/assets/colab-badge.svg\" alt=\"Open In Colab\"/></a>"
      ]
    },
    {
      "cell_type": "code",
      "execution_count": null,
      "metadata": {
        "id": "iA0jd_iP5TX_"
      },
      "outputs": [],
      "source": [
        "import numpy as np"
      ]
    },
    {
      "cell_type": "code",
      "execution_count": null,
      "metadata": {
        "id": "JTqXW6Fb5TYD"
      },
      "outputs": [],
      "source": [
        "arr = np.array(range(100)).reshape((10,10))"
      ]
    },
    {
      "cell_type": "markdown",
      "metadata": {
        "id": "UgkGSTKH5TYE"
      },
      "source": [
        "### select an element by row and column indices"
      ]
    },
    {
      "cell_type": "code",
      "execution_count": null,
      "metadata": {
        "id": "elGjlXTD5TYF",
        "outputId": "9899750c-0f90-4104-c1fb-2856d619faa4"
      },
      "outputs": [
        {
          "name": "stdout",
          "output_type": "stream",
          "text": [
            "55\n",
            "55\n"
          ]
        }
      ],
      "source": [
        "print(arr[5][5])\n",
        "# or more concisely\n",
        "print(arr[5,5])"
      ]
    },
    {
      "cell_type": "markdown",
      "metadata": {
        "id": "eK4oFqq_5TYH"
      },
      "source": [
        "### indexing with slicing"
      ]
    },
    {
      "cell_type": "code",
      "execution_count": null,
      "metadata": {
        "id": "DSWgwg6J5TYI",
        "outputId": "7df91456-3dfa-4a10-df02-2adb897c56f2"
      },
      "outputs": [
        {
          "name": "stdout",
          "output_type": "stream",
          "text": [
            "[[14 15]\n",
            " [24 25]]\n"
          ]
        }
      ],
      "source": [
        "print(arr[1:3, 4:6])"
      ]
    },
    {
      "cell_type": "code",
      "execution_count": null,
      "metadata": {
        "id": "bqt3L1Fy5TYI",
        "outputId": "f0f2624a-f8a1-4464-e946-66c2186d96b8"
      },
      "outputs": [
        {
          "name": "stdout",
          "output_type": "stream",
          "text": [
            "[[[0 1]\n",
            "  [2 3]]\n",
            "\n",
            " [[4 5]\n",
            "  [6 7]]]\n"
          ]
        }
      ],
      "source": [
        "# ellipsis slicing: auto-complete the dimensions\n",
        "arr = np.array(range(16)).reshape(2,2,2,2)\n",
        "# equivalent to arr[0,:,:,:]\n",
        "print(arr[0, ...])    "
      ]
    },
    {
      "cell_type": "markdown",
      "metadata": {
        "id": "_bICYdvH5TYJ"
      },
      "source": [
        "### assign a scalar to a slice by broadcasting"
      ]
    },
    {
      "cell_type": "code",
      "execution_count": null,
      "metadata": {
        "id": "EbuhqaL05TYK",
        "outputId": "3ed221c8-6439-4a47-e553-7fa01df96b53"
      },
      "outputs": [
        {
          "name": "stdout",
          "output_type": "stream",
          "text": [
            "[[[[  0   1]\n",
            "   [  2   3]]\n",
            "\n",
            "  [[  4   5]\n",
            "   [  6   7]]]\n",
            "\n",
            "\n",
            " [[[100 100]\n",
            "   [100 100]]\n",
            "\n",
            "  [[100 100]\n",
            "   [100 100]]]]\n"
          ]
        }
      ],
      "source": [
        "arr[1:3,:] = 100    # or simply arr[1:3]\n",
        "arr[:,8:] = 100\n",
        "print(arr)"
      ]
    },
    {
      "cell_type": "markdown",
      "metadata": {
        "id": "hfXvUU2U5TYL"
      },
      "source": [
        "### boolean indexing"
      ]
    },
    {
      "cell_type": "code",
      "execution_count": null,
      "metadata": {
        "id": "n_fPZH6U5TYL",
        "outputId": "c614e5ab-c037-4e6d-d4f3-3739a34b543b"
      },
      "outputs": [
        {
          "name": "stdout",
          "output_type": "stream",
          "text": [
            "[[ 0  1  2  3  4]\n",
            " [ 5  6  7  8  9]\n",
            " [15 16 17 18 19]]\n"
          ]
        }
      ],
      "source": [
        "arr1 = np.arange(25).reshape((5,5))\n",
        "bools = np.array([True, True, False, True, False])\n",
        "print(arr1[bools])"
      ]
    },
    {
      "cell_type": "code",
      "execution_count": null,
      "metadata": {
        "id": "o-CiMEKO5TYM",
        "outputId": "22b7e2fa-ff49-4bb4-d85d-b8ca4a27be65"
      },
      "outputs": [
        {
          "name": "stdout",
          "output_type": "stream",
          "text": [
            "[[10 11 12 13 14]\n",
            " [20 21 22 23 24]]\n"
          ]
        }
      ],
      "source": [
        "# negate the condition\n",
        "print(arr1[~bools])    "
      ]
    },
    {
      "cell_type": "code",
      "execution_count": null,
      "metadata": {
        "id": "CqZKFSWR5TYM",
        "outputId": "d354aba1-6aa5-4825-8d6e-e58f36da2959"
      },
      "outputs": [
        {
          "name": "stdout",
          "output_type": "stream",
          "text": [
            "[[ 0  1  2  3  4]\n",
            " [20 21 22 23 24]]\n"
          ]
        }
      ],
      "source": [
        "arr2 = np.array([1,2,3,4,5])\n",
        "# multiple conditions\n",
        "print(arr1[(arr2<2) | (arr2>4)])    "
      ]
    },
    {
      "cell_type": "markdown",
      "metadata": {
        "id": "bws0tlZU5TYN"
      },
      "source": [
        "### fancy indexing"
      ]
    },
    {
      "cell_type": "code",
      "execution_count": null,
      "metadata": {
        "id": "n41JAAJA5TYN"
      },
      "outputs": [],
      "source": [
        "arr = np.random.rand(10,10)"
      ]
    },
    {
      "cell_type": "code",
      "execution_count": null,
      "metadata": {
        "id": "FUG1qq9v5TYO",
        "outputId": "ab47eb7e-97cd-4501-8263-07e8ef1d4a16"
      },
      "outputs": [
        {
          "name": "stdout",
          "output_type": "stream",
          "text": [
            "[0.29404208 0.06137223 0.59811053]\n"
          ]
        }
      ],
      "source": [
        "# select arr[3,3], arr[1,2], arr[2,1]\n",
        "print(arr[[3,1,2], [3,2,1]])       "
      ]
    },
    {
      "cell_type": "code",
      "execution_count": null,
      "metadata": {
        "id": "jopNaKlF5TYO",
        "outputId": "dda66e62-4456-4764-991d-f092d945a7cb"
      },
      "outputs": [
        {
          "name": "stdout",
          "output_type": "stream",
          "text": [
            "[[0.09566854 0.2190723  0.6754328 ]\n",
            " [0.28997889 0.13675444 0.07718654]\n",
            " [0.15862308 0.45510309 0.94789792]]\n"
          ]
        }
      ],
      "source": [
        "# select rows 3,1,2 and columns 6,4,8 \n",
        "print(arr[[3,1,2]][:, [6,4,8]])    "
      ]
    },
    {
      "cell_type": "markdown",
      "metadata": {
        "id": "7tdhSVNM5TYP"
      },
      "source": [
        "### dimension inference"
      ]
    },
    {
      "cell_type": "code",
      "execution_count": null,
      "metadata": {
        "id": "DVDW9Q6q5TYP",
        "outputId": "9677a185-bd99-4673-b4e6-0140f8cfbee6"
      },
      "outputs": [
        {
          "name": "stdout",
          "output_type": "stream",
          "text": [
            "(4, 4)\n"
          ]
        }
      ],
      "source": [
        "# dimension inference using any negative number (usually -1)\n",
        "arr = np.array(range(16)).reshape((4,-1))\n",
        "print(arr.shape)"
      ]
    },
    {
      "cell_type": "markdown",
      "metadata": {
        "id": "_QHAc2C65TYP"
      },
      "source": [
        "### find elements/indices by conditions"
      ]
    },
    {
      "cell_type": "code",
      "execution_count": null,
      "metadata": {
        "id": "YjTZamRY5TYQ"
      },
      "outputs": [],
      "source": [
        "arr = np.arange(16).reshape(4,4)"
      ]
    },
    {
      "cell_type": "code",
      "execution_count": null,
      "metadata": {
        "id": "UHaKgVsc5TYQ",
        "outputId": "6e5a2e09-acc9-43be-db63-8c3deb36b51f"
      },
      "outputs": [
        {
          "name": "stdout",
          "output_type": "stream",
          "text": [
            "[ 6  7  8  9 10 11 12 13 14 15]\n"
          ]
        }
      ],
      "source": [
        "# find the elements greater than 5 and return a flattened array\n",
        "print(arr[arr>5])    # or arr[np.where(arr>5)]"
      ]
    },
    {
      "cell_type": "code",
      "execution_count": null,
      "metadata": {
        "id": "YOGVZpt-5TYQ",
        "outputId": "2d11e511-2b79-4971-f62f-dc93de0cd8e9"
      },
      "outputs": [
        {
          "name": "stdout",
          "output_type": "stream",
          "text": [
            "[[10 10 10 10]\n",
            " [10 10 -1 -1]\n",
            " [-1 -1 -1 -1]\n",
            " [-1 -1 -1 -1]]\n"
          ]
        }
      ],
      "source": [
        "# return values based on conditions \n",
        "# np.where(condition, true_return, false_return)\n",
        "print(np.where(arr>5, -1, 10))"
      ]
    },
    {
      "cell_type": "code",
      "execution_count": null,
      "metadata": {
        "id": "2_YiSfHH5TYR",
        "outputId": "a87eedd9-4cf4-47f8-b60f-c3d07e8140c5"
      },
      "outputs": [
        {
          "name": "stdout",
          "output_type": "stream",
          "text": [
            "[[1 2]\n",
            " [1 3]\n",
            " [2 0]\n",
            " [2 1]\n",
            " [2 2]\n",
            " [2 3]\n",
            " [3 0]\n",
            " [3 1]\n",
            " [3 2]\n",
            " [3 3]]\n"
          ]
        }
      ],
      "source": [
        "# find the indices of the elements on conditions\n",
        "print(np.argwhere(arr>5))"
      ]
    }
  ],
  "metadata": {
    "kernelspec": {
      "display_name": "Python 3",
      "language": "python",
      "name": "python3"
    },
    "language_info": {
      "codemirror_mode": {
        "name": "ipython",
        "version": 3
      },
      "file_extension": ".py",
      "mimetype": "text/x-python",
      "name": "python",
      "nbconvert_exporter": "python",
      "pygments_lexer": "ipython3",
      "version": "3.6.6"
    },
    "colab": {
      "provenance": [],
      "include_colab_link": true
    }
  },
  "nbformat": 4,
  "nbformat_minor": 0
}